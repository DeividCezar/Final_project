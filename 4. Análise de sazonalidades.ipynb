{
 "cells": [
  {
   "cell_type": "markdown",
   "metadata": {},
   "source": [
    "# 4 - Análise de sazonalidades\n",
    "\n",
    "Sazonal é um adjetivo que se refere ao que é temporário, ou seja, que é típico de determinada estação ou época. A sazonalidade de um evento representa que este costuma ocorrer sempre num momento temporal específico.\n",
    "\n",
    "Dentro desse contexto, existe a sazonalidade turística ou sazonalidade da demanda turística, que é um fenómeno caracterizado pela instabilidade entre oferta e demanda nos determinados períodos do ano, mais especificamente, no caso do turismo, conhecidos como épocas de alta estação e baixa estação. Estações do ano, férias escolares e de trabalho e poder aquisitivo são factores que podem influenciar a sazonalidade da demanda turística. \n",
    "\n",
    "A sazonalidade é indesejável, pois, nas épocas de baixa estação, pode causar falências de empresas e, consequentemente, desempregos. Durante a alta estação, ela pode gerar inflação no núcleo receptor. O ideal é que haja equilíbrio entre oferta e demanda durante todo o ano, evitando assim a sazonalidade e os fatores prejudiciais à atividade turística que são por ela causados. Além disso, ela pode influenciar também as nossas variáveis criminais, pois, em períodos de alta estação, existe uma tendência de aumento dos números, principalmente, em furtos e roubos. Neste notebook, buscaremos e analisaremos essas variações."
   ]
  },
  {
   "cell_type": "code",
   "execution_count": null,
   "metadata": {},
   "outputs": [],
   "source": [
    "# Importando módulo Sazonalidades e bibliotecas necessárias (utilizamos os pacotes altair, geopandas e matplotlib):\n",
    "\n",
    "import altair as alt\n",
    "import Sazonalidades as s\n",
    "import Maps as m\n",
    "%matplotlib inline\n",
    "alt.renderers.enable('notebook')"
   ]
  },
  {
   "cell_type": "markdown",
   "metadata": {},
   "source": [
    "### Motivação"
   ]
  },
  {
   "cell_type": "markdown",
   "metadata": {},
   "source": [
    "## 4.1 - Microrregião dos Lagos\n",
    "\n",
    "A Microrregião dos Lagos, usualmente conhecida como Região dos Lagos classificada como Região da Costa do Sol é uma região do estado do Rio de Janeiro pertencente à mesorregião das Baixadas Litorâneas. Possui uma área de 2.004,003 km², sua população atual é de 538.650 habitantes e está dividida em sete municípios em torno das lagoas de Araruama e Saquarema, a leste da capital do Rio de Janeiro. É considerada uma das mais belas regiões do litoral fluminense, marcada pelo turismo. Tem importância para a cidade do Rio de Janeiro comparável a Baixada Santista para a cidade de São Paulo. Nos períodos de férias (dezembro, janeiro e julho) a região recebe inúmeros turistas das demais localidades do estado, como também, de fora do Rio de Janeiro. Será que esse fluxo de pessoas impacta as variáveis criminais? Veremos a seguir."
   ]
  },
  {
   "cell_type": "code",
   "execution_count": null,
   "metadata": {},
   "outputs": [],
   "source": [
    "s.mapa_rl_destacada.plot(column='Pertence a Região dos Lagos', cmap='coolwarm', legend=True, figsize=(18,9))"
   ]
  },
  {
   "cell_type": "markdown",
   "metadata": {},
   "source": [
    "Calculamos a média das séries criminais em todos os municípios da Região dos Lagos no módulo \"Índice\". Como resultado obtivemos o seguinte Data Frame:"
   ]
  },
  {
   "cell_type": "code",
   "execution_count": null,
   "metadata": {},
   "outputs": [],
   "source": [
    "s.indices_agregados_rl.head()"
   ]
  },
  {
   "cell_type": "markdown",
   "metadata": {},
   "source": [
    "#### Plotagem das séries:\n",
    "\n",
    "Vamos plotar as médias das taxas agregadas apresentadas anteriormente - em relação a Região dos Lagos (i.indices_agregados_rl) - nos doze meses de um ano durante os cinco anos e, então, buscar possíveis eventos de sazonalidade durante os meses do ano. Para isso usaremos uma função, também declarada no módulo, a qual possui como entradas o data frame e a taxa a ser analisada."
   ]
  },
  {
   "cell_type": "code",
   "execution_count": null,
   "metadata": {
    "scrolled": true
   },
   "outputs": [],
   "source": [
    "s.plot_chart(s.indices_agregados_rl, 'Lesões e Letalidades') & s.plot_chart(s.indices_agregados_rl, 'Roubos') & s.plot_chart(s.indices_agregados_rl, 'Furtos') & s.plot_chart(s.indices_agregados_rl, 'Outros') "
   ]
  },
  {
   "cell_type": "markdown",
   "metadata": {},
   "source": [
    "Podemos notar elevações nas variáveis 'furtos' e 'lesões e letalidades' nos meses de dezembro e janeiro (férias de verão). Vamos verificar a existência da sazonalidade na Região dos Lagos nesse período através do nosso índice de criminalidade. Para isso, agrupamos em média os índices dos municípios da região no seguinte data frame:"
   ]
  },
  {
   "cell_type": "code",
   "execution_count": null,
   "metadata": {},
   "outputs": [],
   "source": [
    "s.indice_rl.head()"
   ]
  },
  {
   "cell_type": "markdown",
   "metadata": {},
   "source": [
    "Ao plotar o índice, verifica-se, realmente, a existência do evento nesse período - (nota para a linha 2017, devido a uma greve no início do ano da polícia no estado, os registros de ocorrência foram afetados e fizeram os números registrados caírem):"
   ]
  },
  {
   "cell_type": "code",
   "execution_count": null,
   "metadata": {},
   "outputs": [],
   "source": [
    "s.plot_ind_rl"
   ]
  },
  {
   "cell_type": "markdown",
   "metadata": {},
   "source": [
    "Logo, pode-se conluir que que existe sazonalidade na Região dos Lagos nos meses de dezembro e janeiro, a qual, possivelmente, está conectada ao fluxo de pessoas, na região, no período das férias de verão. "
   ]
  },
  {
   "cell_type": "markdown",
   "metadata": {},
   "source": [
    "## 4.2 - Região Metropolitana do Rio de Janeiro\n",
    "\n",
    "Passaremos à outra localidade, a Região Metropolitana do Rio de Janeiro, também conhecida como Grande Rio, une as então regiões metropolitanas do Grande Rio Fluminense e da Grande Niterói. Com 12.330.186 habitantes em 2016, é a segunda maior área metropolitana do Brasil (após a Grande São Paulo), terceira da América do Sul e 20ª maior do mundo (Censo 2010).\n",
    "\n",
    "O termo \"Grande Rio\" refere-se a extensão da capital fluminense em uma intensa conurbação com seus municípios vizinhos, uma mancha urbana contínua. É constituída por vinte e um municípios, mas em nossa análise de sazonalidade, consideraremos apenas as cidades (17) que fazem parte da Baixada Fluminense, Rio de Janeiro e Grande Niterói ( os municípios de Cachoeiras de Macacu, Rio Bonito, Itaboraí e Tanguá são considerados inteiror em nossos dados)."
   ]
  },
  {
   "cell_type": "code",
   "execution_count": null,
   "metadata": {},
   "outputs": [],
   "source": [
    "s.mapa_rm_destacada.plot(column='Pertence a Região Metropolitana', cmap='coolwarm', legend=True, figsize=(18,9))"
   ]
  },
  {
   "cell_type": "markdown",
   "metadata": {},
   "source": [
    "Calculamos a média das séries crimais em todos os municípios da Região Metropolitana no módulo \"Índice\". Como resultado obtivemos o seguinte Data Frame:"
   ]
  },
  {
   "cell_type": "code",
   "execution_count": null,
   "metadata": {},
   "outputs": [],
   "source": [
    "s.indices_agregados_rm.head()"
   ]
  },
  {
   "cell_type": "markdown",
   "metadata": {},
   "source": [
    "#### Plotagem das séries:\n",
    "\n",
    "Plotaremos, novamente, as médias das taxas agregadas apresentadas anteriormente - em relação à Região Metropolitana (s.indices_agregados_rm) - para buscar os possíveis eventos de sazonalidade."
   ]
  },
  {
   "cell_type": "code",
   "execution_count": null,
   "metadata": {},
   "outputs": [],
   "source": [
    "s.plot_chart(s.indices_agregados_rm, 'Lesões e Letalidades') & s.plot_chart(s.indices_agregados_rm, 'Roubos') & s.plot_chart(s.indices_agregados_rm, 'Furtos') & s.plot_chart(s.indices_agregados_rm, 'Outros')"
   ]
  },
  {
   "cell_type": "markdown",
   "metadata": {},
   "source": [
    "Levando-se em consideração os plots acima, é notória a constância dos dados ao longo do ano. Logo, não há sazonalidade na Região Metropolitana. "
   ]
  },
  {
   "cell_type": "markdown",
   "metadata": {},
   "source": [
    "## 4.3 - Rio de Janeiro\n",
    "\n",
    "Rio de Janeiro (frequentemente referida simplesmente como Rio) é um município brasileiro, capital do estado homônimo, situado no Sudeste do país. Maior destino turístico internacional no Brasil, da América Latina e de todo o Hemisfério Sul, a capital fluminense é a cidade brasileira mais conhecida no exterior, funcionando como um \"espelho\", ou \"retrato\" nacional, seja positiva ou negativamente. É a segunda maior metrópole do Brasil (depois de São Paulo), a sexta maior da América e a trigésima quinta do mundo. Dada sua importância e a relevância que tem em relação aos nossos números criminais, será que ela também possui sazonalidade ao longo do ano? A alta estação nas épocas de férias influencia os dados? Buscaremos responder adiante."
   ]
  },
  {
   "cell_type": "code",
   "execution_count": null,
   "metadata": {},
   "outputs": [],
   "source": [
    "s.mapa_rj_destacado.plot(column='Rio de Janeiro', cmap='coolwarm', legend=True, figsize=(18,9))"
   ]
  },
  {
   "cell_type": "markdown",
   "metadata": {},
   "source": [
    "Séries crimais do município - filtrada no módulo \"Índice\":"
   ]
  },
  {
   "cell_type": "code",
   "execution_count": null,
   "metadata": {},
   "outputs": [],
   "source": [
    "s.indice_rj.head()"
   ]
  },
  {
   "cell_type": "markdown",
   "metadata": {},
   "source": [
    "#### Plotagem das séries\n",
    "\n",
    "Plotaremos os dados conforme fizemos anteriormente com as regiões, mas, desta vez, com as taxas reais do município."
   ]
  },
  {
   "cell_type": "code",
   "execution_count": null,
   "metadata": {},
   "outputs": [],
   "source": [
    "s.plot_chart(s.indice_rj, 'Lesões e Letalidades') & s.plot_chart(s.indice_rj, 'Roubos') & s.plot_chart(s.indice_rj, 'Furtos') & s.plot_chart(s.indice_rj, 'Outros') "
   ]
  },
  {
   "cell_type": "markdown",
   "metadata": {},
   "source": [
    "Novamente, é notória a constância dos dados ao longo do ano. Logo, não há sazonalidade no município do Rio de Janeiro."
   ]
  }
 ],
 "metadata": {
  "kernelspec": {
   "display_name": "Python 3",
   "language": "python",
   "name": "python3"
  },
  "language_info": {
   "codemirror_mode": {
    "name": "ipython",
    "version": 3
   },
   "file_extension": ".py",
   "mimetype": "text/x-python",
   "name": "python",
   "nbconvert_exporter": "python",
   "pygments_lexer": "ipython3",
   "version": "3.6.5"
  }
 },
 "nbformat": 4,
 "nbformat_minor": 2
}
