{
 "cells": [
  {
   "cell_type": "markdown",
   "metadata": {
    "colab_type": "text",
    "id": "rs6hJKA69Jwn"
   },
   "source": [
    "# Importação e limpeza dos dados \n",
    "\n",
    "Organizamos a importação e a limpeza dos dados nesse [módulo](Dados.py)."
   ]
  },
  {
   "cell_type": "markdown",
   "metadata": {
    "colab_type": "text",
    "id": "mPf0Wv369Ogn"
   },
   "source": [
    "### Dados importados:\n",
    "\n",
    "* Séries históricas do estado por mês desde 1991\n",
    "\n",
    "* Séries históricas do estado por mês desde 2003 (taxas  por 100 mil habitantes)\n",
    "\n",
    "* Séries históricas por município desde janeiro 2014\n",
    "\n",
    "* População de cada município do estado do Rio de Janeiro(de 2000 a 2020; alguns dados são previsões)\n",
    "\n",
    "* Dicionários das variáveis de cada série \n",
    "\n",
    "\n",
    "\n"
   ]
  },
  {
   "cell_type": "markdown",
   "metadata": {
    "colab_type": "text",
    "id": "GEQsdQdz_vEt"
   },
   "source": [
    "### Limpeza:\n",
    "\n",
    "* ***serie_estadual* (dados históricos mensais de criminalidade no estado)** - removemos as colunas com dados que não são interessantes para nossa análise (nas duas primeiras os dados são baixos e variam pouco ao longo do tempo):\n",
    "\n",
    ">> *pol_militares_mortos_serv* - Policiais Militares mortos em serviço;\n",
    "\n",
    ">>*pol_civis_mortos_serv* - Policiais Civis mortos em serviço;\n",
    "\n",
    ">>*fase* - variável desconhecida: parece se referir à fase da atualização das notificações (não é de interesse);\n",
    "\n",
    ">>*prisoes* - Prisões: os dados começam somente a partir de 2005 e há uma transição um tanto indevida de notificações para *apf_cmp*;\n",
    "\n",
    ">>*apf_cmp* - Auto de Prisão em Flagrante + Cumprimento de Mandado de Prisão: idem;\n",
    "\n",
    ">>*apreensoes* - Apreensões de adolescentes: os dados começam somente a partir de 2005 e há uma transição um tanto indevida de notificações para *aaapai_cmba*;\n",
    "\n",
    ">>*aaapai_cmba* - Auto de Apreensão de Adolescente por Prática de Ato Infracional + Cumprimento de Mandado de Busca: idem.\n",
    "\n",
    "\n",
    "\n",
    "* ***serie_estadual_taxas* (taxas por 100 mil habitantes dos dados acima)** - removemos da série estadual de taxas as mesmas colunas eliminadas na série estadual em números absolutos.\n",
    "\n",
    "\n",
    "\n",
    "* ***serie_municipal* (dados históricos mensais da criminalidade dos municípios do estado do Rio de Janeiro)*** - removemos da série municipal as colunas existentes já eliminadas na série estadual em números absolutos e na série estadual de taxas. Além disso, removemos, também, as seguintes colunas:\n",
    "\n",
    ">>*fmun_cod* - Código IBGE de 7 dígitos do município (irrelevante para nossa exploração)\n",
    "\n",
    ">>*mes_ano* - mês e ano da comunicação da ocorrência (dado repetido, pois existem, anteriormente, duas colunas com mês e ano)\n",
    "\n",
    "\n",
    "\n",
    "* **populacao_municipal (população de cada município do estado do Rio de Janeiro, de 2000 a 2020)** - alguns dados são previsões e adequamentos históricos aos censos realizados. Eliminamos as linhas que não são de interesse, ficando somente com as populações referentes aos anos de 2014 a 2018, adequando com os dados de criminalidade dos municípios acima. Além disso, também eliminamos a coluna referente aos códigos dos municípios, os quais não são de nosso interesse."
   ]
  },
  {
   "cell_type": "markdown",
   "metadata": {
    "colab_type": "text",
    "id": "YpOXLg-WEn0J"
   },
   "source": [
    "### Indexs e títulos: \n",
    "\n",
    "Renomeamos os indexs e os títulos de cada variável restante de nossos dados de forma adequada."
   ]
  },
  {
   "cell_type": "markdown",
   "metadata": {
    "colab_type": "text",
    "id": "7rvRiOWNEyAm"
   },
   "source": [
    "### Taxas municipais: \n",
    "\n",
    "No módulo Dados, a partir dos arquivos *populacao_municipal* e *serie_municipal* que resultaram da limpeza, criamos um DataFrame com as taxas por 100 mil habitantes das variáveis dos municípios, assim como possuímos as taxas referentes ao estado como um todo."
   ]
  },
  {
   "cell_type": "markdown",
   "metadata": {},
   "source": [
    "### Agrupamento\n",
    "\n",
    "Organizamos cada DataFrame em diferentes agrupamentos. No caso das séries estaduais, fizemos um agrupamento por ano (**grupo_ano_se** para a série estadual bruta e **grupo_ano_set** para as taxas) e um agrupamento por mês (**grupo_mes_se** para a série estadual bruta e **grupo_mes_set** para as taxas). Já no caso das séries municipais, além desses agrupamentos (**grupo_ano_sm**, **grupo_ano_smt**, **grupo_mes_sm** e **grupo_mes_smt**, na mesma ordem apresentada), também agrupamos os dados por município (**grupo_mun_ano_sm** para a série municipal bruta e **grupo_mun_ano_smt** para as taxas). Visualize os grupos com os comandos a seguir. Mude o ano, o mês ou o município, se desejar."
   ]
  },
  {
   "cell_type": "code",
   "execution_count": 4,
   "metadata": {},
   "outputs": [],
   "source": [
    "import Dados as dd\n",
    "#dd.grupo_mes_se.get_group(1)\n",
    "#dd.grupo_ano_se.get_group(1991)\n",
    "#dd.grupo_mes_set.get_group(1)\n",
    "#dd.grupo_ano_set.get_group(2003)\n",
    "#dd.grupo_mun_ano_sm.get_group('Cachoeiras de Macacu')\n",
    "#dd.grupo_ano_sm.get_group(2014)\n",
    "#dd.grupo_mes_sm.get_group(1)\n",
    "#dd.grupo_mun_ano_smt.get_group('Cachoeiras de Macacu')\n",
    "#dd.grupo_ano_smt.get_group(2014)\n",
    "#dd.grupo_mes_smt.get_group(1)"
   ]
  }
 ],
 "metadata": {
  "colab": {
   "collapsed_sections": [],
   "name": "Importação e organização dos dados .ipynb",
   "provenance": [],
   "version": "0.3.2"
  },
  "kernelspec": {
   "display_name": "Python 3",
   "language": "python",
   "name": "python3"
  },
  "language_info": {
   "codemirror_mode": {
    "name": "ipython",
    "version": 3
   },
   "file_extension": ".py",
   "mimetype": "text/x-python",
   "name": "python",
   "nbconvert_exporter": "python",
   "pygments_lexer": "ipython3",
   "version": "3.7.0"
  }
 },
 "nbformat": 4,
 "nbformat_minor": 1
}
