{
 "cells": [
  {
   "cell_type": "markdown",
   "metadata": {},
   "source": [
    "*Importando bibliotecas e séries de dados* "
   ]
  },
  {
   "cell_type": "code",
   "execution_count": null,
   "metadata": {},
   "outputs": [],
   "source": [
    "import pandas as pd\n",
    "import numpy as np\n",
    "import Dados as d"
   ]
  },
  {
   "cell_type": "markdown",
   "metadata": {},
   "source": [
    "*Função para análise das variáveis no Estado*"
   ]
  },
  {
   "cell_type": "code",
   "execution_count": null,
   "metadata": {
    "scrolled": true
   },
   "outputs": [],
   "source": [
    "def filtro_serie_estadual(var):\n",
    "    return d.serie_estadual[var]\n",
    "\n",
    "var = input(\"Variável para análise: \")\n",
    "filtro_serie_estadual(var)"
   ]
  },
  {
   "cell_type": "markdown",
   "metadata": {},
   "source": [
    "*Função para análise das taxas no Estado*"
   ]
  },
  {
   "cell_type": "code",
   "execution_count": null,
   "metadata": {},
   "outputs": [],
   "source": [
    "def filtro_serie_estadual_taxas(var):\n",
    "    return d.serie_estadual_taxas[var]\n",
    "\n",
    "var = input(\"Variável para análise: \")\n",
    "filtro_serie_estadual_taxas(var)"
   ]
  },
  {
   "cell_type": "markdown",
   "metadata": {},
   "source": [
    "*Função para análise das variáveis em cada município*"
   ]
  },
  {
   "cell_type": "code",
   "execution_count": null,
   "metadata": {},
   "outputs": [],
   "source": [
    "def filtro_serie_municipal(cidade, var):   \n",
    "    result = (d.serie_municipal.loc[d.serie_municipal[\"Município\"] == cidade]) \n",
    "    return result[var]\n",
    "\n",
    "cidade = input(\"Munícipio para análise: \")\n",
    "var = input(\"Variável para análise: \")\n",
    "filtro_serie_municipal(cidade, var)"
   ]
  },
  {
   "cell_type": "markdown",
   "metadata": {},
   "source": [
    "*Função para análise das taxas em cada município*"
   ]
  },
  {
   "cell_type": "code",
   "execution_count": null,
   "metadata": {},
   "outputs": [],
   "source": [
    "def filtro_serie_municipal_taxas(cidade, var):   \n",
    "    result = (d.serie_municipal_taxas.loc[d.serie_municipal_taxas[\"Município\"] == cidade]) \n",
    "    return result[var]\n",
    "\n",
    "cidade = input(\"Munícipio para análise: \")\n",
    "var = input(\"Variável para análise: \")\n",
    "filtro_serie_municipal_taxas(cidade, var)"
   ]
  }
 ],
 "metadata": {
  "kernelspec": {
   "display_name": "Python 3",
   "language": "python",
   "name": "python3"
  },
  "language_info": {
   "codemirror_mode": {
    "name": "ipython",
    "version": 3
   },
   "file_extension": ".py",
   "mimetype": "text/x-python",
   "name": "python",
   "nbconvert_exporter": "python",
   "pygments_lexer": "ipython3",
   "version": "3.7.0"
  }
 },
 "nbformat": 4,
 "nbformat_minor": 2
}
