{
 "cells": [
  {
   "cell_type": "markdown",
   "metadata": {
    "colab_type": "text",
    "id": "IZiKGHjNHxiv"
   },
   "source": [
    "# Análise histórica da criminalidade no estado do Rio de Janeiro\n",
    "\n"
   ]
  },
  {
   "cell_type": "markdown",
   "metadata": {},
   "source": [
    "## 1.1 - Motivação\n",
    "\n",
    "Cenas de arrastões, saques, tiroteios e agressões filmadas por cariocas e turistas e apresentados pela mídia televisiva: eis o duro retrato da caótica realidade do Rio de Janeiro em relação à criminalidade. Cenas como essas são algumas das mazelas que a sociedade enfrenta diariamente no estado. Há uma sensação de que a criminalidade vem aumentando em todo o estado, mas há um estigma negativo com relação à capital do estado, Rio de Janeiro. Nesse contexto, buscamos através desse trabalho analisar qual é a situação relativa do nível de criminalidade de cada região do estado a ser especificada, assim como uma comparação da evolução de tal nível nas cidades vizinhas à capital do estado, verificando se há algum fluxo claro da criminalidade entre certas regiões.\n",
    "\n"
   ]
  },
  {
   "cell_type": "markdown",
   "metadata": {
    "colab_type": "text",
    "id": "g-LpNW5-Nhwd"
   },
   "source": [
    "## 1.2 - Fonte dos dados"
   ]
  },
  {
   "cell_type": "markdown",
   "metadata": {
    "colab_type": "text",
    "id": "87Jk2FU5IIbP"
   },
   "source": [
    "***ISP - Instituto de Segurança Pública***\n",
    "\n",
    "O Instituto de Segurança Pública – ISP, criado pela Lei nº 3.329, de 28 de Dezembro 1999 – é uma autarquia vinculada diretamente à Secretaria de Estado de Segurança Pública (SESEG). Com 18 anos de existência, o ISP conta com grande conhecimento acumulado no desenvolvimento de metodologias de análise de dados relativos à Segurança Pública. Sua missão é produzir informações e disseminar pesquisas e análises com vistas a influenciar e subsidiar a implementação de políticas públicas de segurança e assegurar a participação social na construção dessas políticas.\n",
    "\n",
    "Ética e transparência da informação são parte dos valores do ISP: além de divulgar os dados relativos à segurança pública, o ISP realiza análises, projetos e pesquisas regularmente. As pesquisas realizadas pelo ISP visam a subsidiar a gestão de segurança pública no estado e o debate público sobre o tema, com o tratamento científico de seus principais problemas.\n",
    "\n",
    "O ISP também é o responsável pela Coordenadoria dos Conselhos Comunitários de Segurança, canal de participação social e de comunicação entre a comunidade e os representantes das forças de segurança estaduais em cada região, na busca comum pela redução da violência.\n",
    "\n",
    "***Arquivos em formato xlsx***\n",
    "\n",
    "Usaremos arquivos de formato xlsx com estatísticas divulgadas pelo ISP, as quais são construídas a partir dos Registros de Ocorrência (RO) lavrados nas delegacias de Polícia Civil do Estado do Rio de Janeiro, além de informações complementares de órgãos específicos da Polícia Militar do Estado do Rio de Janeiro. Antes de serem consolidados no ISP, os RO são submetidos ao controle de qualidade realizado pela Corregedoria Interna da Polícia Civil (COINPOL). As estatísticas produzidas baseiam-se na data em que foi confeccionado o Registro de Ocorrência.\n"
   ]
  },
  {
   "cell_type": "markdown",
   "metadata": {
    "colab_type": "text",
    "id": "LKfmXtywItpR"
   },
   "source": [
    "## 1.3 - Dados brutos\n",
    "\n",
    "\n"
   ]
  },
  {
   "cell_type": "markdown",
   "metadata": {
    "colab_type": "text",
    "id": "WyjKFBGNNTcN"
   },
   "source": [
    "***Séries históricas criminais do estado - dicionário de variáveis***\n",
    "\n",
    "Os dados utilizados contam com um dicionário com a descrição dos dados. Analisaremos os Roubos (comércio, residência, veículos, cargas, transeuntes, em coletivos, bancos, caixas eletrônicos, celulares, condução ao saque e outros), Furtos (veículos e outros), Vítimas de Crimes Violentos (Lesões Corporais, Homicídios, Tentativas de Assassinato e outros), Indicadores Estratégicos (Letalidade, Roubo de Rua, Roubo de Veículos e Recuperação de Veículos), Estelionatos e Registro de Ocorrências.\n",
    "\n",
    "Dicionário: [clique aqui](Dicionario_Variaveis.xlsx)."
   ]
  },
  {
   "cell_type": "markdown",
   "metadata": {
    "colab_type": "text",
    "id": "fLHoOHwMYOuN"
   },
   "source": [
    "***Séries históricas por município desde janeiro de 2014 (números absolutos)***"
   ]
  },
  {
   "cell_type": "code",
   "execution_count": null,
   "metadata": {
    "colab": {},
    "colab_type": "code",
    "id": "H-31NrhhYcNs",
    "scrolled": false
   },
   "outputs": [],
   "source": [
    "serie_municipal = pd.read_excel(\"Dados_Municipio.xlsx\")\n",
    "\n",
    "serie_municipal.head()"
   ]
  },
  {
   "cell_type": "markdown",
   "metadata": {
    "colab_type": "text",
    "id": "dXxXGtaPYpj3"
   },
   "source": [
    "## 1.4 - Objetivos"
   ]
  },
  {
   "cell_type": "markdown",
   "metadata": {
    "colab_type": "text",
    "id": "clnxCCQAaRnE"
   },
   "source": [
    "Pretendemos criar um índice de criminalidade que possibilite a comparação dos níveis de criminalidade entre os municípios e regiões do estado do Rio de Janeiro. Tal índice se baseará nos dados informados acima e nas penas dos crimes disponíveis para a análise. Com ele, faremos a comparação da evolução histórica do índices em diferentes localidades.\n",
    "\n",
    "Como objetivo final, utilizando os aparatos e as descobertas ao longo do trabalho, verificaremos se existe uma relação inversa entre a criminalidade da capital com os municípios e regiões vizinhos (também criaremos um mapa para visualizar o índice em cada município), analisando se houve um fluxo de criminosos em direção aos municípios vizinhos no período de análise."
   ]
  }
 ],
 "metadata": {
  "colab": {
   "collapsed_sections": [],
   "name": "1 - Introdução.ipynb",
   "provenance": [],
   "version": "0.3.2"
  },
  "kernelspec": {
   "display_name": "Python 3",
   "language": "python",
   "name": "python3"
  },
  "language_info": {
   "codemirror_mode": {
    "name": "ipython",
    "version": 3
   },
   "file_extension": ".py",
   "mimetype": "text/x-python",
   "name": "python",
   "nbconvert_exporter": "python",
   "pygments_lexer": "ipython3",
   "version": "3.7.1"
  }
 },
 "nbformat": 4,
 "nbformat_minor": 1
}
