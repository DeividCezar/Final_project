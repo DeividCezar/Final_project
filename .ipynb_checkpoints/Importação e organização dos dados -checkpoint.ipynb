{
 "cells": [
  {
   "cell_type": "code",
   "execution_count": 1,
   "metadata": {
    "collapsed": true
   },
   "outputs": [],
   "source": [
    "import pandas as pd"
   ]
  },
  {
   "cell_type": "markdown",
   "metadata": {},
   "source": [
    "**Importando séries históricas do estado por mês desde 1991 (números absolutos):**"
   ]
  },
  {
   "cell_type": "code",
   "execution_count": 2,
   "metadata": {
    "collapsed": true
   },
   "outputs": [],
   "source": [
    "serie_estadual = pd.read_excel(\"Dados_Estado.xlsx\")"
   ]
  },
  {
   "cell_type": "code",
   "execution_count": 3,
   "metadata": {
    "collapsed": true
   },
   "outputs": [],
   "source": [
    "# Removendo as colunas que estão com dados incompletos:\n",
    "\n",
    "serie_estadual = serie_estadual.drop(\"prisoes\", axis=1)\n",
    "serie_estadual = serie_estadual.drop(\"apf_cmp\", axis=1)\n",
    "serie_estadual = serie_estadual.drop(\"apreensoes\", axis=1)\n",
    "serie_estadual = serie_estadual.drop(\"aaapai_cmba\", axis=1)"
   ]
  },
  {
   "cell_type": "markdown",
   "metadata": {},
   "source": [
    "**Importando séries históricas do estado por mês desde 2003 (taxas):**"
   ]
  },
  {
   "cell_type": "code",
   "execution_count": 4,
   "metadata": {
    "collapsed": true
   },
   "outputs": [],
   "source": [
    "serie_estadual_taxas = pd.read_excel(\"Dados_taxas.xlsx\")"
   ]
  },
  {
   "cell_type": "code",
   "execution_count": 5,
   "metadata": {
    "collapsed": true
   },
   "outputs": [],
   "source": [
    "# Removendo as colunas que estão com dados incompletos nas séries históricas do estado:\n",
    "\n",
    "serie_estadual_taxas = serie_estadual_taxas.drop(\"prisoes\", axis=1)\n",
    "serie_estadual_taxas = serie_estadual_taxas.drop(\"apf_cmp\", axis=1)\n",
    "serie_estadual_taxas = serie_estadual_taxas.drop(\"apreensoes\", axis=1)\n",
    "serie_estadual_taxas = serie_estadual_taxas.drop(\"aaapai_cmba\", axis=1)"
   ]
  },
  {
   "cell_type": "markdown",
   "metadata": {},
   "source": [
    "**Importando séries históricas por município desde janeiro 2014 (números absolutos):**"
   ]
  },
  {
   "cell_type": "code",
   "execution_count": 6,
   "metadata": {
    "collapsed": true
   },
   "outputs": [],
   "source": [
    "serie_municipal = pd.read_excel(\"Dados_Municipio.xlsx\")"
   ]
  },
  {
   "cell_type": "code",
   "execution_count": null,
   "metadata": {
    "collapsed": true
   },
   "outputs": [],
   "source": [
    "# Removendo as colunas existentes já eliminadas anteriormente, como também as de dados desnecessários para nossa análise:\n",
    "\n",
    "serie_municipal = serie_municipal.drop(\"fmun_cod\", axis=1)\n",
    "serie_municipal = serie_municipal.drop(\"mes_ano\", axis=1)\n",
    "serie_municipal = serie_municipal.drop(\"apf_cmp\", axis=1)\n",
    "serie_municipal = serie_municipal.drop(\"aaapai_cmba\", axis=1)\n",
    "serie_municipal = serie_municipal.drop(\"fase\", axis=1)"
   ]
  },
  {
   "cell_type": "markdown",
   "metadata": {},
   "source": [
    "**"
   ]
  }
 ],
 "metadata": {
  "kernelspec": {
   "display_name": "Python 3",
   "language": "python",
   "name": "python3"
  },
  "language_info": {
   "codemirror_mode": {
    "name": "ipython",
    "version": 3
   },
   "file_extension": ".py",
   "mimetype": "text/x-python",
   "name": "python",
   "nbconvert_exporter": "python",
   "pygments_lexer": "ipython3",
   "version": "3.6.0"
  }
 },
 "nbformat": 4,
 "nbformat_minor": 2
}
