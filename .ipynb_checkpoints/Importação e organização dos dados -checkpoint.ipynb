{
 "cells": [
  {
   "cell_type": "code",
   "execution_count": 1,
   "metadata": {
    "collapsed": true
   },
   "outputs": [],
   "source": [
    "import pandas as pd\n",
    "import numpy as np"
   ]
  },
  {
   "cell_type": "markdown",
   "metadata": {},
   "source": [
    "**Importação e limpeza dos dados:** Organizamos a importação e a limpeza dos dados em um módulo.\n",
    "\n",
    "**Importação**: fizemos a importação dos dados históricos mensais de criminalidade no estado do Rio de Janeiro (desde 1991), de suas taxas por 100 mil habitantes (desde 2003), dos dados históricos mensais dos municípios do mesmo estado (desde 2014) e da população de cada município do estado do Rio de Janeiro(de 2000 a 2020; alguns dados são previsões)."
   ]
  },
  {
   "cell_type": "markdown",
   "metadata": {},
   "source": [
    "**Limpeza**:\n",
    "\n",
    "**serie_estadual**: dados históricos mensais´de criminalidade no estado. Removemos as seguintes colunas:\n",
    "\n",
    "Com dados que não são interessantes para nossa análise (nas duas primeiras os dados são baixos e variam pouco ao longo do tempo):\n",
    "\n",
    "*pol_militares_mortos_serv - Policiais Militares mortos em serviço*;\n",
    "\n",
    "*pol_civis_mortos_serv - Policiais Civis mortos em serviço*;\n",
    "\n",
    "*fase - variável desconhecida*: parece se referir à fase da atualização das notificações (não é de interesse);\n",
    "\n",
    "*prisoes - Prisões*: os dados começam somente a partir de 2005 e há uma transição um tanto indevida de notificações para apf_cmp.\n",
    "\n",
    "*apf_cmp - Auto de Prisão em Flagrante + Cumprimento de Mandado de Prisão*: idem.\n",
    "\n",
    "*apreensoes - Apreensões de adolescentes*: os dados começam somente a partir de 2005 e há uma transição um tanto indevida de notificações para aaapai_cmba.\n",
    "\n",
    "*aaapai_cmba - Auto de Apreensão de Adolescente por Prática de Ato Infracional + Cumprimento de Mandado de Busca*: idem.\n",
    "\n",
    "**serie_estadual_taxas**: taxas por 100 mil habitantes dos dados acima. Removemos da série estadual de taxas as mesmas colunas eliminadas na série estadual em números absolutos.\n",
    "\n",
    "**serie_municipal**: dados históricos mensais da criminalidade dos municípios do estado do Rio de Janeiro. Removemos da série municipal as colunas existentes já eliminadas na série estadual em números absolutos e na série estadual de taxas. Além disso, removemos, também, as seguintes colunas:\n",
    "\n",
    "*fmun_cod* - Código IBGE de 7 dígitos do município (Irrelevante para nossa exploração) \n",
    "\n",
    "*mes_ano* - Mês e ano da comunicação da ocorrência (dado repetido, pois existem, anteriormente, duas colunas com mês e ano)\n",
    "\n",
    "**populacao_municipal**: população de cada município do estado do Rio de Janeiro, de 2000 a 2020 (alguns dados são previsões e adequamentos históricos aos censos realizados). Eliminamos as linhas que não são de interesse, ficando somente com as populações referentes aos anos de 2014 a 2018, adequando com os dados de criminalidade dos municípios acima. Além disso, também eliminamos a coluna referente aos códigos dos municípios, os quais não são de nosso interesse.\n",
    "\n",
    "**Indexs e títulos**: renomeamos os indexs e os títulos de cada variável restante de nossos dados de forma adequada."
   ]
  },
  {
   "cell_type": "code",
   "execution_count": 2,
   "metadata": {
    "collapsed": true
   },
   "outputs": [],
   "source": [
    "serie_estadual = pd.read_excel(\"Dados_Estado.xlsx\")"
   ]
  },
  {
   "cell_type": "code",
   "execution_count": 3,
   "metadata": {
    "collapsed": true
   },
   "outputs": [],
   "source": [
    "serie_estadual = serie_estadual.drop(\"pol_militares_mortos_serv\", axis=1)\n",
    "serie_estadual = serie_estadual.drop(\"pol_civis_mortos_serv\", axis=1)\n",
    "serie_estadual = serie_estadual.drop(\"fase\", axis=1)\n",
    "serie_estadual = serie_estadual.drop(\"prisoes\", axis=1)\n",
    "serie_estadual = serie_estadual.drop(\"apf_cmp\", axis=1)\n",
    "serie_estadual = serie_estadual.drop(\"apreensoes\", axis=1)\n",
    "serie_estadual = serie_estadual.drop(\"aaapai_cmba\", axis=1)"
   ]
  },
  {
   "cell_type": "code",
   "execution_count": 4,
   "metadata": {
    "collapsed": true
   },
   "outputs": [],
   "source": [
    "serie_estadual_taxas = pd.read_excel(\"Dados_taxas.xlsx\")"
   ]
  },
  {
   "cell_type": "code",
   "execution_count": 5,
   "metadata": {
    "collapsed": true
   },
   "outputs": [],
   "source": [
    "serie_estadual_taxas = serie_estadual_taxas.drop(\"pol_militares_mortos_serv\", axis=1)\n",
    "serie_estadual_taxas = serie_estadual_taxas.drop(\"pol_civis_mortos_serv\", axis=1)\n",
    "serie_estadual_taxas = serie_estadual_taxas.drop(\"fase\", axis=1)\n",
    "serie_estadual_taxas = serie_estadual_taxas.drop(\"prisoes\", axis=1)\n",
    "serie_estadual_taxas = serie_estadual_taxas.drop(\"apf_cmp\", axis=1)\n",
    "serie_estadual_taxas = serie_estadual_taxas.drop(\"apreensoes\", axis=1)\n",
    "serie_estadual_taxas = serie_estadual_taxas.drop(\"aaapai_cmba\", axis=1)"
   ]
  },
  {
   "cell_type": "code",
   "execution_count": 6,
   "metadata": {
    "collapsed": true
   },
   "outputs": [],
   "source": [
    "serie_municipal = pd.read_excel(\"Dados_Municipio.xlsx\")"
   ]
  },
  {
   "cell_type": "code",
   "execution_count": 7,
   "metadata": {
    "collapsed": true
   },
   "outputs": [],
   "source": [
    "serie_municipal = serie_municipal.drop(\"fmun_cod\", axis=1)\n",
    "serie_municipal = serie_municipal.drop(\"mes_ano\", axis=1)\n",
    "serie_municipal = serie_municipal.drop(\"apf_cmp\", axis=1)\n",
    "serie_municipal = serie_municipal.drop(\"aaapai_cmba\", axis=1)\n",
    "serie_municipal = serie_municipal.drop(\"pol_militares_mortos_serv\", axis=1)\n",
    "serie_municipal = serie_municipal.drop(\"pol_civis_mortos_serv\", axis=1)\n",
    "serie_municipal = serie_municipal.drop(\"fase\", axis=1)"
   ]
  },
  {
   "cell_type": "code",
   "execution_count": 8,
   "metadata": {
    "collapsed": true
   },
   "outputs": [],
   "source": [
    "populacao_municipal = pd.read_excel(\"PopulaçãoMunicipal.xlsm\")"
   ]
  },
  {
   "cell_type": "code",
   "execution_count": 9,
   "metadata": {
    "collapsed": true
   },
   "outputs": [],
   "source": [
    "populacao_municipal = populacao_municipal.drop(\"cod_munic\", axis = 1)\n",
    "populacao_municipal = populacao_municipal[2013 < populacao_municipal.vano]\n",
    "populacao_municipal = populacao_municipal[2019 > populacao_municipal.vano]"
   ]
  },
  {
   "cell_type": "code",
   "execution_count": 10,
   "metadata": {
    "collapsed": true
   },
   "outputs": [],
   "source": [
    "serie_estadual.columns = ['Ano', 'Mês', 'Homicídio Doloso', 'Lesão Corporal seguida de Morte', 'Latrocínio', 'Homicídio por Intervenção Policial', 'Tentativa de Homicídio', 'Lesão Corporal Dolosa', 'Estrupo', 'Homicídio Culposo', 'Lesão Corporal Culposa', 'Roubo a Comércio', 'Roubo a Residência', 'Roubo de Veículo', 'Roubo de Carga', 'Roubo a Transeunte', 'Roubo em Coletivo', 'Roubo a Banco', 'Roubo a Caixa Eletrônico', 'Roubo de Celular', 'Roubo com Condução para Saque', 'Roubo a Bicicleta', 'Outros Roubos', 'Total de Roubos', 'Furto de Veículos', 'Furto de Bicicleta', 'Outros Furtos', 'Total de Furtos', 'Sequestro', 'Extorsão', 'Sequestro Relâmpago', 'Estelionato', 'Apreensão de Drogas', 'Recuperação de Veículos', 'Cumprimento de Mandado de Prisão', 'Ameaças', 'Pessoas Desaparecidas', 'Encontro de Cadáver', 'Encontro de Ossada', 'Indicador de Letalidade', 'Indicador de Roubo na Rua', 'Indicador de Roubo de Veículos', 'Registro de Ocorrências']\n",
    "serie_estadual_taxas.columns = ['Ano', 'Mês', 'Homicídio Doloso', 'Lesão Corporal seguida de Morte', 'Latrocínio', 'Homicídio por Intervenção Policial', 'Tentativa de Homicídio', 'Lesão Corporal Dolosa', 'Estrupo', 'Homicídio Culposo', 'Lesão Corporal Culposa', 'Roubo a Comércio', 'Roubo a Residência', 'Roubo de Veículo', 'Roubo de Carga', 'Roubo a Transeunte', 'Roubo em Coletivo', 'Roubo a Banco', 'Roubo a Caixa Eletrônico', 'Roubo de Celular', 'Roubo com Condução para Saque', 'Roubo a Bicicleta', 'Outros Roubos', 'Total de Roubos', 'Furto de Veículos', 'Furto de Bicicleta', 'Outros Furtos', 'Total de Furtos', 'Sequestro', 'Extorsão', 'Sequestro Relâmpago', 'Estelionato', 'Apreensão de Drogas', 'Recuperação de Veículos', 'Cumprimento de Mandado de Prisão', 'Ameaças', 'Pessoas Desaparecidas', 'Encontro de Cadáver', 'Encontro de Ossada', 'Indicador de Letalidade', 'Indicador de Roubo na Rua', 'Indicador de Roubo de Veículos', 'Registro de Ocorrências']\n",
    "serie_municipal.columns = ['Município', 'Ano', 'Mês', 'Região', 'Homicídio Doloso', 'Lesão Corporal seguida de Morte', 'Latrocínio', 'Homicídio por Intervenção Policial', 'Tentativa de Homicídio', 'Lesão Corporal Dolosa', 'Estrupo', 'Homicídio Culposo', 'Lesão Corporal Culposa', 'Roubo a Comércio', 'Roubo a Residência', 'Roubo de Veículo', 'Roubo de Carga', 'Roubo a Transeunte', 'Roubo em Coletivo', 'Roubo a Banco', 'Roubo a Caixa Eletrônico', 'Roubo de Celular', 'Roubo com Condução para Saque', 'Roubo a Bicicleta', 'Outros Roubos', 'Total de Roubos', 'Furto de Veículos', 'Furto de Bicicleta', 'Outros Furtos', 'Total de Furtos', 'Sequestro', 'Extorsão', 'Sequestro Relâmpago', 'Estelionato', 'Apreensão de Drogas', 'Recuperação de Veículos', 'Cumprimento de Mandado de Prisão', 'Ameaças', 'Pessoas Desaparecidas', 'Encontro de Cadáver', 'Encontro de Ossada', 'Indicador de Letalidade', 'Indicador de Roubo na Rua', 'Indicador de Roubo de Veículos', 'Registro de Ocorrências']\n",
    "populacao_municipal.index = range(populacao_municipal.shape[0])\n",
    "populacao_municipal.columns = ['Município', 'População do Município', 'Ano']"
   ]
  }
 ],
 "metadata": {
  "kernelspec": {
   "display_name": "Python 3",
   "language": "python",
   "name": "python3"
  },
  "language_info": {
   "codemirror_mode": {
    "name": "ipython",
    "version": 3
   },
   "file_extension": ".py",
   "mimetype": "text/x-python",
   "name": "python",
   "nbconvert_exporter": "python",
   "pygments_lexer": "ipython3",
   "version": "3.6.0"
  }
 },
 "nbformat": 4,
 "nbformat_minor": 2
}
