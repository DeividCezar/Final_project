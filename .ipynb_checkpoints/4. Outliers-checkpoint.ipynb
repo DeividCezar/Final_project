{
 "cells": [
  {
   "cell_type": "markdown",
   "metadata": {},
   "source": [
    "# *Outliers*\n",
    "\n",
    "Os outliers são dados que se diferenciam drasticamente de todos os outros, são pontos fora da curva. Em outras palavras, um outlier é um valor que foge da normalidade. Há diversos métodos com base estatística para determinar se há outliers em conjuntos de dados. Neste notebook, a partir -dados- usaremos -método- com o objetivo de encontrar eventos patológicos ao longo do tempo que possam ter influenciado as séries criminais ou que foram provocados por acontecimentos históricos."
   ]
  },
  {
   "cell_type": "code",
   "execution_count": null,
   "metadata": {},
   "outputs": [],
   "source": [
    "import Outliers as out\n",
    "out.todos_outliers()"
   ]
  }
 ],
 "metadata": {
  "kernelspec": {
   "display_name": "Python 3",
   "language": "python",
   "name": "python3"
  },
  "language_info": {
   "codemirror_mode": {
    "name": "ipython",
    "version": 3
   },
   "file_extension": ".py",
   "mimetype": "text/x-python",
   "name": "python",
   "nbconvert_exporter": "python",
   "pygments_lexer": "ipython3",
   "version": "3.5.2"
  }
 },
 "nbformat": 4,
 "nbformat_minor": 2
}
