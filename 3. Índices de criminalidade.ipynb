{
 "cells": [
  {
   "cell_type": "code",
   "execution_count": null,
   "metadata": {},
   "outputs": [],
   "source": [
    "import pandas as pd\n",
    "import altair as alt\n",
    "alt.renderers.enable('notebook')\n",
    "\n",
    "penas_criminais = pd.read_excel(\"Dados_penas.xlsx\")\n",
    "penas_criminais['Pena média'] = (penas_criminais['Pena mínima'] + penas_criminais['Pena máxima'])/2\n",
    "\n",
    "penas_criminais"
   ]
  },
  {
   "cell_type": "markdown",
   "metadata": {},
   "source": [
    "*Plotagem das médias penais das variáveis*"
   ]
  },
  {
   "cell_type": "code",
   "execution_count": null,
   "metadata": {
    "scrolled": true
   },
   "outputs": [],
   "source": [
    "chart = alt.Chart(penas_criminais).mark_bar().encode(\n",
    "    x='Crime',\n",
    "    y='Pena média'\n",
    ").configure_mark(\n",
    "    opacity=0.8,\n",
    "    color='red'\n",
    ").properties(\n",
    "  width=880,\n",
    "  height=250\n",
    ")\n",
    "\n",
    "chart"
   ]
  },
  {
   "cell_type": "code",
   "execution_count": null,
   "metadata": {},
   "outputs": [],
   "source": [
    "import Dados as dd\n",
    "import numpy as np\n",
    "dd.grupo_mun_mean.head()"
   ]
  },
  {
   "cell_type": "markdown",
   "metadata": {},
   "source": [
    "**Criação do índice de criminalidade:**"
   ]
  },
  {
   "cell_type": "code",
   "execution_count": null,
   "metadata": {},
   "outputs": [],
   "source": [
    "array_media = np.array(dd.grupo_mun_mean)[:, 1:]\n",
    "indices = np.average(array_media, weights = penas_criminais['Pena média'], axis = 1)\n",
    "indices = pd.DataFrame(indices)\n",
    "indices.index = dd.grupo_mun_mean.index\n",
    "indices[2] = dd.grupo_mun_mean['Região'].replace([1, 2, 3, 4], ['Baixada Fluminense', 'Rio de Janeiro', 'Grande Niterói', 'Interior'])\n",
    "indices.columns = ['Índice', 'Região']\n",
    "indices"
   ]
  },
  {
   "cell_type": "code",
   "execution_count": null,
   "metadata": {},
   "outputs": [],
   "source": [
    "chart = alt.Chart(indices.reset_index()).mark_bar().encode(\n",
    "    x = 'Município',\n",
    "    y = 'Índice',\n",
    "    color = 'Região:N'\n",
    ").properties(\n",
    "    width=1300,\n",
    "    height=350,\n",
    "    title= 'Índice de Criminalidade'\n",
    ")\n",
    "chart"
   ]
  },
  {
   "cell_type": "code",
   "execution_count": null,
   "metadata": {},
   "outputs": [],
   "source": []
  }
 ],
 "metadata": {
  "kernelspec": {
   "display_name": "Python 3",
   "language": "python",
   "name": "python3"
  },
  "language_info": {
   "codemirror_mode": {
    "name": "ipython",
    "version": 3
   },
   "file_extension": ".py",
   "mimetype": "text/x-python",
   "name": "python",
   "nbconvert_exporter": "python",
   "pygments_lexer": "ipython3",
   "version": "3.6.5"
  }
 },
 "nbformat": 4,
 "nbformat_minor": 2
}
