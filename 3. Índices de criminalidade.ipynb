{
 "cells": [
  {
   "cell_type": "markdown",
   "metadata": {},
   "source": [
    "# Índices de criminalidade\n",
    "\n",
    "Como já dito antes, criamos um índice de criminalidade que, além de utilizar os dados disponíveis acerca da ocorrência dos crimes violentos no estado do Rio de Janeiro, utiliza as penas dos crimes agindo como pesos para uma média ponderada do número de ocorrências. O critério é válido: os crimes com maiores penas prescritas em lei são aquelas que mais preocupam o cidadão fluminenses. Cada município possuirá seu índice. Esse índice será útil em análises posteriores.\n",
    "\n",
    "Ademais, separamos os crimes em 4 grupos: **Lesões e Letalidades** (inclui Homicídio Doloso, Lesão Corporal seguida de Morte, Latrocínio, Tentativa de Homicídio, Lesão Corporal Dolosa, Estupro, Homicídio Culposo e Lesão Corporal Culposa), **Roubos**, **Furtos** e **Outros** (inclui Sequestro, Extorsão, Sequestro Relâmpago, Estelionato e Ameaças). Iremos explicar os grupos mais adiante.\n",
    "\n",
    "A criação desse índice foi feita nesse [módulo](Índice.py).\n",
    "\n",
    "Dentre nossos dados, selecionamos as variáveis que realmente são crimes e utilizamos os dados sobre as penas da plataforma [Jusbrasil](https://www.jusbrasil.com.br/home), criando uma [planilha](Dados_penas.xlsx) com os crimes e suas respectivas penas mínima, máxima e média."
   ]
  },
  {
   "cell_type": "markdown",
   "metadata": {},
   "source": [
    "**Penas**: as penas de cada crime estão representadas em anos."
   ]
  },
  {
   "cell_type": "code",
   "execution_count": null,
   "metadata": {},
   "outputs": [],
   "source": [
    "import pandas as pd\n",
    "import numpy as np\n",
    "import altair as alt\n",
    "import Índice as ind\n",
    "alt.renderers.enable('notebook')\n",
    "\n",
    "ind.penas_criminais"
   ]
  },
  {
   "cell_type": "markdown",
   "metadata": {},
   "source": [
    "**Plotagem das médias penais das variáveis**"
   ]
  },
  {
   "cell_type": "code",
   "execution_count": null,
   "metadata": {
    "scrolled": true
   },
   "outputs": [],
   "source": [
    "ind.plot_penas"
   ]
  },
  {
   "cell_type": "markdown",
   "metadata": {},
   "source": [
    "**Índice de criminalidade para os municípios:** O índice de criminalidade foi calculado para cada data (mês e ano) disponível. O agrupamento 'indices_mun' separa os índices em grupos por data no formato ano/mês. Por exemplo, esse DataFrame nos dá o índice de criminalidade no mês de agosto de 2018 para cada município:"
   ]
  },
  {
   "cell_type": "code",
   "execution_count": null,
   "metadata": {},
   "outputs": [],
   "source": [
    "ind.indices_municipio.get_group('2018/08')"
   ]
  },
  {
   "cell_type": "markdown",
   "metadata": {},
   "source": [
    "E o seguinte código nos dá o índice de criminalidade graficamente (utilizamos o pacote Altair):"
   ]
  },
  {
   "cell_type": "code",
   "execution_count": null,
   "metadata": {},
   "outputs": [],
   "source": [
    "chart = alt.Chart(ind.indices_municipio.get_group('2018/08')).mark_bar().encode(\n",
    "    x = 'Município',\n",
    "    y = 'Índice',\n",
    "    color = 'Região:N'\n",
    ").properties(\n",
    "    width=1300,\n",
    "    height=350,\n",
    "    title= 'Índice de Criminalidade Municipal: 2018/08'\n",
    ")\n",
    "chart"
   ]
  },
  {
   "cell_type": "markdown",
   "metadata": {},
   "source": [
    "**Índices por grupos (municipal)**: agrupamos os crimes em quatro tipos: Lesões e Letalidades, Roubos, Furtos e Outros, como explicado acima. O novo agrupamento por data tem nome 'indices_agregados_mun' As taxas resultantes não possuem nenhuma ponderação, mas apenas representam a soma das taxas dos crimes em cada tipo, para cada data e município. Veja a seguir o caso de 2018/08:"
   ]
  },
  {
   "cell_type": "code",
   "execution_count": null,
   "metadata": {},
   "outputs": [],
   "source": [
    "ind.indices_agregados_mun.get_group('2018/08')"
   ]
  },
  {
   "cell_type": "markdown",
   "metadata": {},
   "source": [
    "E a seguir a representação gráfica das Lesões e Letalidades:"
   ]
  },
  {
   "cell_type": "code",
   "execution_count": null,
   "metadata": {},
   "outputs": [],
   "source": [
    "chart = alt.Chart(ind.indices_agregados_mun.get_group('2018/08')).mark_bar().encode(\n",
    "    x = 'Município',\n",
    "    y = 'Lesões e Letalidades',\n",
    "    color = 'Região:N'\n",
    ").properties(\n",
    "    width=1300,\n",
    "    height=350,\n",
    "    title= 'Lesões e Letalidade: 2018/08'\n",
    ")\n",
    "chart"
   ]
  }
 ],
 "metadata": {
  "kernelspec": {
   "display_name": "Python 3",
   "language": "python",
   "name": "python3"
  },
  "language_info": {
   "codemirror_mode": {
    "name": "ipython",
    "version": 3
   },
   "file_extension": ".py",
   "mimetype": "text/x-python",
   "name": "python",
   "nbconvert_exporter": "python",
   "pygments_lexer": "ipython3",
   "version": "3.7.1"
  }
 },
 "nbformat": 4,
 "nbformat_minor": 2
}
