{
 "cells": [
  {
   "cell_type": "markdown",
   "metadata": {
    "colab_type": "text",
    "id": "R6hMc2Qe3xP3"
   },
   "source": [
    "### *Plotagem para análise individual das variáveis no Estado*"
   ]
  },
  {
   "cell_type": "markdown",
   "metadata": {},
   "source": [
    "    Possibilidades para análise estadual:\n",
    "\n",
    "'Homicídio Doloso', 'Lesão Corporal seguida de Morte', 'Latrocínio', 'Homicídio por Intervenção Policial', 'Tentativa de Homicídio', 'Lesão Corporal Dolosa', 'Estupro', 'Homicídio Culposo', 'Lesão Corporal Culposa', 'Roubo a Comércio', 'Roubo a Residência', 'Roubo de Veículo', 'Roubo de Carga', 'Roubo a Transeunte', 'Roubo em Coletivo', 'Roubo a Banco', 'Roubo a Caixa Eletrônico', 'Roubo de Celular', 'Roubo com Condução para Saque', 'Roubo a Bicicleta', 'Outros Roubos', 'Total de Roubos', 'Furto de Veículos', 'Furto de Bicicleta', 'Outros Furtos', 'Total de Furtos', 'Sequestro', 'Extorsão', 'Sequestro Relâmpago', 'Estelionato', 'Apreensão de Drogas', 'Recuperação de Veículos', 'Cumprimento de Mandado de Prisão', 'Ameaças', 'Pessoas Desaparecidas', 'Encontro de Cadáver', 'Encontro de Ossada', 'Indicador de Letalidade', 'Indicador de Roubo na Rua', 'Indicador de Roubo de Veículos' e 'Registro de Ocorrências'."
   ]
  },
  {
   "cell_type": "code",
   "execution_count": null,
   "metadata": {},
   "outputs": [],
   "source": [
    "import altair as alt\n",
    "alt.renderers.enable('notebook')\n",
    "import Dados as dd\n",
    "\n",
    "def filtro_serie_estadual(var):\n",
    "    \n",
    "    search = dd.serie_estadual[dd.serie_estadual[var] >= 0]\n",
    "    \n",
    "    chart = alt.Chart(search.reset_index()).mark_line().encode(\n",
    "        alt.X('Data:T'),\n",
    "        y = var\n",
    "    ).configure_mark(\n",
    "        opacity=0.8,\n",
    "        color=\"blue\"\n",
    "    ).properties(\n",
    "        width=880,\n",
    "        title=var+' no estado do Rio de Janeiro (números absolutos)'\n",
    "    ).interactive(bind_y=False)\n",
    "    \n",
    "    return chart\n",
    "\n",
    "\n",
    "filtro_serie_estadual('Roubo de Celular')"
   ]
  },
  {
   "cell_type": "markdown",
   "metadata": {},
   "source": [
    "### *Plotagem para análise individual das taxas no Estado*"
   ]
  },
  {
   "cell_type": "code",
   "execution_count": null,
   "metadata": {},
   "outputs": [],
   "source": [
    "def filtro_serie_estadual_taxas(var):\n",
    "    \n",
    "    chart = alt.Chart(dd.serie_estadual_taxas.reset_index()).mark_line().encode(\n",
    "        alt.X('Data:T'),\n",
    "        alt.Y(var, title=var+' (taxa)')\n",
    "    ).configure_mark(\n",
    "        opacity=0.8,\n",
    "        color=\"blue\"\n",
    "    ).properties(\n",
    "        width=880,\n",
    "        title=var+' no estado do Rio de Janeiro (taxa por 100 mil habitantes)'\n",
    "    ).interactive(bind_y=False)\n",
    "       \n",
    "    return chart\n",
    "\n",
    "\n",
    "filtro_serie_estadual_taxas('Homicídio Doloso')"
   ]
  },
  {
   "cell_type": "markdown",
   "metadata": {},
   "source": [
    "### *Plotagem para análise individual das variáveis em cada município*"
   ]
  },
  {
   "cell_type": "markdown",
   "metadata": {},
   "source": [
    "    Possibilidades de municípios para análise municipal:\n",
    "    \n",
    "'Angra dos Reis', 'Aperibé', 'Araruama', 'Areal', 'Armação dos Búzios', 'Arraial do Cabo', 'Barra do Piraí', 'Barra Mansa', 'Belford Roxo', 'Bom Jardim', 'Bom Jesus do Itabapoana', 'Cabo Frio', 'Cachoeiras de Macacu', 'Cambuci', 'Carapebus', 'Comendador Levy Gasparian', 'Campos dos Goytacazes', 'Cantagalo', 'Cardoso Moreira', 'Carmo', 'Casimiro de Abreu', 'Conceição de Macabu', 'Cordeiro', 'Duas Barras', 'Duque de Caxias', 'Engenheiro Paulo de Frontin', 'Guapimirim', 'Iguaba Grande', 'Itaboraí', 'Itaguaí', 'Italva', 'Itaocara', 'Itaperuna', 'Itatiaia', 'Japeri', Laje do Muriaé', 'Macaé', 'Macuco', 'Magé', 'Mangaratiba', 'Maricá', 'Mendes', 'Mesquita', 'Miguel Pereira', 'Miracema', 'Natividade', 'Nilópolis', 'Niterói', 'Nova Friburgo', 'Nova Iguaçu', 'Paracambi', 'Paraíba do Sul', 'Paraty', 'Paty do Alferes', 'Petrópolis', 'Pinheiral', 'Piraí', 'Porciúncula', 'Porto Real', 'Quatis', 'Queimados', 'Queissamã', 'Resende', 'Rio Bonito', 'Rio Claro', 'Rio das Flores', 'Rio das Ostras', 'Rio de Janeiro', 'Santa Maria Madalena', 'Santo Antônio de Pádua', 'São Francisco de Itabapoana', 'São Fidélis', 'São Gonçalo', 'São João da Barra', 'São João de Meriti', 'São João de Ubá', 'São Pedro da Aldeia', 'São Sebastião do Alto', 'Sapucaia', 'Saquarema', 'Seropédica', 'Silva Jardim', 'Sumidouro', 'Tanguá', 'Teresópolis', 'Trajano de Moraes', 'Três Rios', 'Valença' e 'Varre-Sai', 'Vassouras' e 'Volta Redonda'.    \n",
    "\n",
    "    Possibilidades de variáveis para análise municipal:\n",
    "    \n",
    "'Homicídio Doloso', 'Lesão Corporal seguida de Morte', 'Latrocínio', 'Homicídio por Intervenção Policial', 'Tentativa de Homicídio', 'Lesão Corporal Dolosa', 'Estupro', 'Homicídio Culposo', 'Lesão Corporal Culposa', 'Roubo a Comércio', 'Roubo a Residência', 'Roubo de Veículo', 'Roubo de Carga', 'Roubo a Transeunte', 'Roubo em Coletivo', 'Roubo a Banco', 'Roubo a Caixa Eletrônico', 'Roubo de Celular', 'Roubo com Condução para Saque', 'Roubo a Bicicleta', 'Outros Roubos', 'Total de Roubos', 'Furto de Veículos', 'Furto de Bicicleta', 'Outros Furtos', 'Total de Furtos', 'Sequestro', 'Extorsão', 'Sequestro Relâmpago', 'Estelionato', 'Apreensão de Drogas', 'Recuperação de Veículos', 'Cumprimento de Mandado de Prisão', 'Ameaças', 'Pessoas Desaparecidas', 'Encontro de Cadáver', 'Encontro de Ossada', 'Indicador de Letalidade', 'Indicador de Roubo na Rua', 'Indicador de Roubo de Veículos' e 'Registro de Ocorrências'."
   ]
  },
  {
   "cell_type": "code",
   "execution_count": null,
   "metadata": {},
   "outputs": [],
   "source": [
    "def filtro_serie_municipal(cidade, var): \n",
    "    \n",
    "    search = (dd.serie_municipal.loc[dd.serie_municipal[\"Município\"] == cidade])\n",
    "\n",
    "    chart = alt.Chart(search.reset_index()).mark_line().encode(\n",
    "        alt.X('Data:T'),\n",
    "        y = var\n",
    "    ).configure_mark(\n",
    "        opacity=0.8,\n",
    "        color=\"green\"\n",
    "    ).properties(\n",
    "        width=880,\n",
    "        title=var+' - '+cidade+' (números absolutos)'\n",
    "    ).interactive(bind_y=False)\n",
    "      \n",
    "    return chart\n",
    "\n",
    "\n",
    "filtro_serie_municipal('Maricá', 'Total de Roubos')"
   ]
  },
  {
   "cell_type": "markdown",
   "metadata": {},
   "source": [
    "### *Plotagem para análise individual das taxas em cada município*"
   ]
  },
  {
   "cell_type": "code",
   "execution_count": null,
   "metadata": {},
   "outputs": [],
   "source": [
    "def filtro_serie_municipal_taxas(cidade, var):   \n",
    "    \n",
    "    search = (dd.serie_municipal_taxas.loc[dd.serie_municipal_taxas[\"Município\"] == cidade])\n",
    "\n",
    "    chart = alt.Chart(search.reset_index()).mark_line().encode(\n",
    "        alt.X('Data:T'),\n",
    "        alt.Y(var, title=var+' (taxa)')\n",
    "    ).configure_mark(\n",
    "        opacity=0.8,\n",
    "        color=\"green\"\n",
    "    ).properties(\n",
    "        width=880,\n",
    "        title=var+' - '+cidade+' (taxa por 100 mil habitantes)'\n",
    "    ).interactive(bind_y=False)\n",
    "    \n",
    "    return chart\n",
    "\n",
    "\n",
    "filtro_serie_municipal_taxas('Rio de Janeiro', 'Homicídio Doloso')"
   ]
  },
  {
   "cell_type": "markdown",
   "metadata": {},
   "source": [
    "### *População dos municípios*"
   ]
  },
  {
   "cell_type": "code",
   "execution_count": null,
   "metadata": {},
   "outputs": [],
   "source": [
    "def filtro_populacao_municipal(cidade):\n",
    "    \n",
    "    search = (dd.populacao_municipal.reset_index().loc[dd.populacao_municipal.reset_index()[\"Município\"] == cidade])\n",
    "\n",
    "    chart = alt.Chart(search.reset_index()).mark_bar().encode(\n",
    "        alt.Y('Ano:O'),\n",
    "        x='População do Município'\n",
    "    ).configure_mark(\n",
    "        opacity=0.8,\n",
    "        color='pink'\n",
    "    ).properties(\n",
    "        width=880,\n",
    "        height=250,\n",
    "        title=cidade\n",
    ")\n",
    "\n",
    "    return chart\n",
    "\n",
    "\n",
    "filtro_populacao_municipal('Maricá')"
   ]
  },
  {
   "cell_type": "markdown",
   "metadata": {},
   "source": [
    "### *Comparação população x números absolutos*"
   ]
  },
  {
   "cell_type": "code",
   "execution_count": null,
   "metadata": {},
   "outputs": [],
   "source": [
    "def populacaoxnumeros_absolutos(var,mes,ano):\n",
    "\n",
    "    # Filtrando mês e ano:\n",
    "\n",
    "    search = (dd.serie_municipal_taxas.loc[dd.serie_municipal_taxas[\"Mês\"] == 2])\n",
    "    search = (search.loc[search[\"Ano\"] == 2014])\n",
    "\n",
    "    # Filtrando ano da população dos municípios:\n",
    "\n",
    "    populacao = dd.populacao_municipal.reset_index()\n",
    "    populacao = (populacao.loc[populacao[\"Ano\"] == 2014])\n",
    "    \n",
    "    # Agrupando coluna da população na série municipal: \n",
    "\n",
    "    search = search.reset_index().join(populacao.reset_index()['População do Município'])\n",
    "    \n",
    "    # Plotando gráfico:\n",
    "    \n",
    "    chart = alt.Chart(search).mark_circle().encode(\n",
    "        x = 'População do Município',\n",
    "        y = var,\n",
    "        tooltip=['Município', var, 'População do Município']\n",
    "    ).configure_mark(\n",
    "        color='purple'\n",
    "    ).properties(\n",
    "        width=870,\n",
    "        height=350,\n",
    "        title= var+' (taxa por 100 mil habitantes)'+' x População'\n",
    "    ).interactive(bind_y=False)\n",
    "    \n",
    "    return chart\n",
    "\n",
    "\n",
    "populacaoxnumeros_absolutos('Estupro',2,2018)"
   ]
  },
  {
   "cell_type": "markdown",
   "metadata": {},
   "source": [
    "**Encontrando Outliers** - Os outliers/anomalias das séries estaduais foram encontradas de acordo com um ano especificado. Já os outliers/anomalias das séries municipais foram encontradas de acordo com a série inteira (desde 2014)."
   ]
  },
  {
   "cell_type": "code",
   "execution_count": null,
   "metadata": {},
   "outputs": [],
   "source": [
    "import Outliers as out\n",
    "out.todos_outliers()"
   ]
  }
 ],
 "metadata": {
  "colab": {
   "collapsed_sections": [],
   "name": "Análise dos dados criminais do estado do Rio de Janeiro",
   "provenance": [],
   "version": "0.3.2"
  },
  "kernelspec": {
   "display_name": "Python 3",
   "language": "python",
   "name": "python3"
  },
  "language_info": {
   "codemirror_mode": {
    "name": "ipython",
    "version": 3
   },
   "file_extension": ".py",
   "mimetype": "text/x-python",
   "name": "python",
   "nbconvert_exporter": "python",
   "pygments_lexer": "ipython3",
   "version": "3.6.5"
  }
 },
 "nbformat": 4,
 "nbformat_minor": 1
}
