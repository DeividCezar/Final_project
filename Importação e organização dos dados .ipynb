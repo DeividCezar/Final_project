{
 "cells": [
  {
   "cell_type": "code",
   "execution_count": 1,
   "metadata": {
    "collapsed": true
   },
   "outputs": [],
   "source": [
    "import pandas as pd"
   ]
  },
  {
   "cell_type": "markdown",
   "metadata": {},
   "source": [
    "**Importando séries históricas do estado por mês desde 1991 (números absolutos):**"
   ]
  },
  {
   "cell_type": "code",
   "execution_count": 2,
   "metadata": {
    "collapsed": true
   },
   "outputs": [],
   "source": [
    "serie_estadual = pd.read_excel(\"Dados_Estado.xlsx\")"
   ]
  },
  {
   "cell_type": "code",
   "execution_count": 3,
   "metadata": {
    "collapsed": false
   },
   "outputs": [],
   "source": [
    "# Removendo as colunas que estão com dados incompletos:\n",
    "\n",
    "serie_estadual = serie_estadual.drop(\"prisoes\", axis=1)\n",
    "serie_estadual = serie_estadual.drop(\"apf_cmp\", axis=1)\n",
    "serie_estadual = serie_estadual.drop(\"apreensoes\", axis=1)\n",
    "serie_estadual = serie_estadual.drop(\"aaapai_cmba\", axis=1)\n",
    "serie_estadual = serie_estadual.drop(\"pol_militares_mortos_serv\", axis=1)\n",
    "serie_estadual = serie_estadual.drop(\"pol_civis_mortos_serv\", axis=1)\n",
    "serie_estadual = serie_estadual.drop(\"fase\", axis=1)"
   ]
  },
  {
   "cell_type": "markdown",
   "metadata": {},
   "source": [
    "**Importando séries históricas do estado por mês desde 2003 (taxas):**"
   ]
  },
  {
   "cell_type": "code",
   "execution_count": 4,
   "metadata": {
    "collapsed": true
   },
   "outputs": [],
   "source": [
    "serie_estadual_taxas = pd.read_excel(\"Dados_taxas.xlsx\")"
   ]
  },
  {
   "cell_type": "code",
   "execution_count": 5,
   "metadata": {
    "collapsed": false
   },
   "outputs": [],
   "source": [
    "# Removendo as colunas que estão com dados incompletos nas séries históricas do estado:\n",
    "\n",
    "serie_estadual_taxas = serie_estadual_taxas.drop(\"prisoes\", axis=1)\n",
    "serie_estadual_taxas = serie_estadual_taxas.drop(\"apf_cmp\", axis=1)\n",
    "serie_estadual_taxas = serie_estadual_taxas.drop(\"apreensoes\", axis=1)\n",
    "serie_estadual_taxas = serie_estadual_taxas.drop(\"aaapai_cmba\", axis=1)\n",
    "serie_estadual_taxas = serie_estadual_taxas.drop(\"pol_militares_mortos_serv\", axis=1)\n",
    "serie_estadual_taxas = serie_estadual_taxas.drop(\"pol_civis_mortos_serv\", axis=1)\n",
    "serie_estadual_taxas = serie_estadual_taxas.drop(\"fase\", axis=1)"
   ]
  },
  {
   "cell_type": "markdown",
   "metadata": {},
   "source": [
    "**Importando séries históricas por município desde janeiro 2014 (números absolutos):**"
   ]
  },
  {
   "cell_type": "code",
   "execution_count": 6,
   "metadata": {
    "collapsed": true
   },
   "outputs": [],
   "source": [
    "serie_municipal = pd.read_excel(\"Dados_Municipio.xlsx\")"
   ]
  },
  {
   "cell_type": "code",
   "execution_count": 7,
   "metadata": {
    "collapsed": false
   },
   "outputs": [],
   "source": [
    "# Removendo as colunas existentes já eliminadas anteriormente, como também as de dados desnecessários para nossa análise:\n",
    "\n",
    "serie_municipal = serie_municipal.drop(\"fmun_cod\", axis=1)\n",
    "serie_municipal = serie_municipal.drop(\"mes_ano\", axis=1)\n",
    "serie_municipal = serie_municipal.drop(\"apf_cmp\", axis=1)\n",
    "serie_municipal = serie_municipal.drop(\"aaapai_cmba\", axis=1)\n",
    "serie_municipal = serie_municipal.drop(\"pol_militares_mortos_serv\", axis=1)\n",
    "serie_municipal = serie_municipal.drop(\"pol_civis_mortos_serv\", axis=1)\n",
    "serie_municipal = serie_municipal.drop(\"fase\", axis=1)"
   ]
  },
  {
   "cell_type": "markdown",
   "metadata": {},
   "source": [
    "**Renomeando adequadamente as variáveis de serie_estadual, serie_estadual_taxas e serie_municipal:**"
   ]
  },
  {
   "cell_type": "code",
   "execution_count": 8,
   "metadata": {
    "collapsed": false
   },
   "outputs": [],
   "source": [
    "serie_estadual.columns = ['Ano', 'Mês', 'Homicídio Doloso', 'Lesão Corporal seguida de Morte', 'Latrocínio', 'Homicídio por Intervenção Policial', 'Tentativa de Homicídio', 'Lesão Corporal Dolosa', 'Estrupo', 'Homicídio Culposo', 'Lesão Corporal Culposa', 'Roubo a Comércio', 'Roubo a Residência', 'Roubo de Veículo', 'Roubo de Carga', 'Roubo a Transeunte', 'Roubo em Coletivo', 'Roubo a Banco', 'Roubo a Caixa Eletrônico', 'Roubo de Celular', 'Roubo com Condução para Saque', 'Roubo a Bicicleta', 'Outros Roubos', 'Total de Roubos', 'Furto de Veículos', 'Furto de Bicicleta', 'Outros Furtos', 'Total de Furtos', 'Sequestro', 'Extorsão', 'Sequestro Relâmpago', 'Estelionato', 'Apreensão de Drogas', 'Recuperação de Veículos', 'Cumprimento de Mandado de Prisão', 'Ameaças', 'Pessoas Desaparecidas', 'Encontro de Cadáver', 'Encontro de Ossada', 'Indicador de Letalidade', 'Indicador de Roubo na Rua', 'Indicador de Roubo de Veículos', 'Registro de Ocorrências']\n",
    "serie_estadual_taxas.columns = ['Ano', 'Mês', 'Homicídio Doloso', 'Lesão Corporal seguida de Morte', 'Latrocínio', 'Homicídio por Intervenção Policial', 'Tentativa de Homicídio', 'Lesão Corporal Dolosa', 'Estrupo', 'Homicídio Culposo', 'Lesão Corporal Culposa', 'Roubo a Comércio', 'Roubo a Residência', 'Roubo de Veículo', 'Roubo de Carga', 'Roubo a Transeunte', 'Roubo em Coletivo', 'Roubo a Banco', 'Roubo a Caixa Eletrônico', 'Roubo de Celular', 'Roubo com Condução para Saque', 'Roubo a Bicicleta', 'Outros Roubos', 'Total de Roubos', 'Furto de Veículos', 'Furto de Bicicleta', 'Outros Furtos', 'Total de Furtos', 'Sequestro', 'Extorsão', 'Sequestro Relâmpago', 'Estelionato', 'Apreensão de Drogas', 'Recuperação de Veículos', 'Cumprimento de Mandado de Prisão', 'Ameaças', 'Pessoas Desaparecidas', 'Encontro de Cadáver', 'Encontro de Ossada', 'Indicador de Letalidade', 'Indicador de Roubo na Rua', 'Indicador de Roubo de Veículos', 'Registro de Ocorrências']\n",
    "serie_municipal.columns = ['Município', 'Ano', 'Mês', 'Região', 'Homicídio Doloso', 'Lesão Corporal seguida de Morte', 'Latrocínio', 'Homicídio por Intervenção Policial', 'Tentativa de Homicídio', 'Lesão Corporal Dolosa', 'Estrupo', 'Homicídio Culposo', 'Lesão Corporal Culposa', 'Roubo a Comércio', 'Roubo a Residência', 'Roubo de Veículo', 'Roubo de Carga', 'Roubo a Transeunte', 'Roubo em Coletivo', 'Roubo a Banco', 'Roubo a Caixa Eletrônico', 'Roubo de Celular', 'Roubo com Condução para Saque', 'Roubo a Bicicleta', 'Outros Roubos', 'Total de Roubos', 'Furto de Veículos', 'Furto de Bicicleta', 'Outros Furtos', 'Total de Furtos', 'Sequestro', 'Extorsão', 'Sequestro Relâmpago', 'Estelionato', 'Apreensão de Drogas', 'Recuperação de Veículos', 'Cumprimento de Mandado de Prisão', 'Ameaças', 'Pessoas Desaparecidas', 'Encontro de Cadáver', 'Encontro de Ossada', 'Indicador de Letalidade', 'Indicador de Roubo na Rua', 'Indicador de Roubo de Veículos', 'Registro de Ocorrências']"
   ]
  },
  {
   "cell_type": "code",
   "execution_count": null,
   "metadata": {
    "collapsed": true
   },
   "outputs": [],
   "source": []
  }
 ],
 "metadata": {
  "kernelspec": {
   "display_name": "Python 3",
   "language": "python",
   "name": "python3"
  },
  "language_info": {
   "codemirror_mode": {
    "name": "ipython",
    "version": 3
   },
   "file_extension": ".py",
   "mimetype": "text/x-python",
   "name": "python",
   "nbconvert_exporter": "python",
   "pygments_lexer": "ipython3",
   "version": "3.6.0"
  }
 },
 "nbformat": 4,
 "nbformat_minor": 2
}
