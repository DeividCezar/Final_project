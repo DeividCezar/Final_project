{
 "cells": [
  {
   "cell_type": "markdown",
   "metadata": {
    "colab_type": "text",
    "id": "NgwVtONoBVEs"
   },
   "source": [
    "**Importação e limpeza dos dados:** Organizamos a importação e a limpeza dos dados no módulo Dados.\n",
    "\n",
    "**Importação**: fizemos a importação dos dados históricos mensais de criminalidade no estado do Rio de Janeiro (desde 1991), de suas taxas por 100 mil habitantes (desde 2003), dos dados históricos mensais dos municípios do mesmo estado (desde 2014) e da população de cada município do estado do Rio de Janeiro(de 2000 a 2020; alguns dados são previsões)."
   ]
  },
  {
   "cell_type": "markdown",
   "metadata": {
    "colab_type": "text",
    "id": "Uia6HDy5BVEt"
   },
   "source": [
    "**Limpeza**:\n",
    "\n",
    "**serie_estadual**: dados históricos mensais de criminalidade no estado. Removemos as seguintes colunas:\n",
    "\n",
    "Com dados que não são interessantes para nossa análise (nas duas primeiras os dados são baixos e variam pouco ao longo do tempo):\n",
    "\n",
    "*pol_militares_mortos_serv - Policiais Militares mortos em serviço*;\n",
    "\n",
    "*pol_civis_mortos_serv - Policiais Civis mortos em serviço*;\n",
    "\n",
    "*fase - variável desconhecida*: parece se referir à fase da atualização das notificações (não é de interesse);\n",
    "\n",
    "*prisoes - Prisões*: os dados começam somente a partir de 2005 e há uma transição um tanto indevida de notificações para apf_cmp.\n",
    "\n",
    "*apf_cmp - Auto de Prisão em Flagrante + Cumprimento de Mandado de Prisão*: idem.\n",
    "\n",
    "*apreensoes - Apreensões de adolescentes*: os dados começam somente a partir de 2005 e há uma transição um tanto indevida de notificações para aaapai_cmba.\n",
    "\n",
    "*aaapai_cmba - Auto de Apreensão de Adolescente por Prática de Ato Infracional + Cumprimento de Mandado de Busca*: idem.\n",
    "\n",
    "**serie_estadual_taxas**: taxas por 100 mil habitantes dos dados acima. Removemos da série estadual de taxas as mesmas colunas eliminadas na série estadual em números absolutos.\n",
    "\n",
    "**serie_municipal**: dados históricos mensais da criminalidade dos municípios do estado do Rio de Janeiro. Removemos da série municipal as colunas existentes já eliminadas na série estadual em números absolutos e na série estadual de taxas. Além disso, removemos, também, as seguintes colunas:\n",
    "\n",
    "*fmun_cod* - Código IBGE de 7 dígitos do município (Irrelevante para nossa exploração) \n",
    "\n",
    "*mes_ano* - Mês e ano da comunicação da ocorrência (dado repetido, pois existem, anteriormente, duas colunas com mês e ano)\n",
    "\n",
    "**populacao_municipal**: população de cada município do estado do Rio de Janeiro, de 2000 a 2020 (alguns dados são previsões e adequamentos históricos aos censos realizados). Eliminamos as linhas que não são de interesse, ficando somente com as populações referentes aos anos de 2014 a 2018, adequando com os dados de criminalidade dos municípios acima. Além disso, também eliminamos a coluna referente aos códigos dos municípios, os quais não são de nosso interesse.\n",
    "\n",
    "**Indexs e títulos**: renomeamos os indexs e os títulos de cada variável restante de nossos dados de forma adequada.\n",
    "\n",
    "**Taxas municipais**: no módulo Dados, a partir dos arquivos **populacao_municipal** e **serie_municipal** que resultaram da limpeza, criamos um DataFrame com as taxas por 100 mil habitantes das variáveis dos municípios, assim como possuímos as taxas referentes ao estado como um todo."
   ]
  }
 ],
 "metadata": {
  "colab": {
   "collapsed_sections": [],
   "name": "Importação e organização dos dados .ipynb",
   "provenance": [],
   "version": "0.3.2"
  },
  "kernelspec": {
   "display_name": "Python 3",
   "language": "python",
   "name": "python3"
  },
  "language_info": {
   "codemirror_mode": {
    "name": "ipython",
    "version": 3
   },
   "file_extension": ".py",
   "mimetype": "text/x-python",
   "name": "python",
   "nbconvert_exporter": "python",
   "pygments_lexer": "ipython3",
   "version": "3.6.5"
  }
 },
 "nbformat": 4,
 "nbformat_minor": 1
}
