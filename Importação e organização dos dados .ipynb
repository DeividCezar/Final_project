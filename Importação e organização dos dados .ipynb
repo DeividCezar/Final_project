{
 "cells": [
  {
   "cell_type": "code",
   "execution_count": 1,
   "metadata": {},
   "outputs": [],
   "source": [
    "import pandas as pd"
   ]
  },
  {
   "cell_type": "markdown",
   "metadata": {},
   "source": [
    "**Importando séries históricas do estado por mês desde 1991 (números absolutos):**"
   ]
  },
  {
   "cell_type": "code",
   "execution_count": 2,
   "metadata": {},
   "outputs": [],
   "source": [
    "serie_estadual = pd.read_excel(\"Dados_Estado.xlsx\")"
   ]
  },
  {
   "cell_type": "markdown",
   "metadata": {},
   "source": [
    "Removeremos as seguintes colunas:\n",
    "\n",
    "Com dados incompletos: \n",
    "\n",
    "prisoes - Prisões  \n",
    "apf_cmp - Auto de Prisão em Flagrante + Cumprimento de Mandado de Prisão\n",
    "apreensoes - Apreensões de adolescentes\n",
    "aaapai_cmba - Auto de Apreensão de Adolescente por Prática de Ato Infracional + Cumprimento de Mandado de Busca\n",
    " \n",
    " \n",
    "Com dados que não são interessantes para nossa análise (nas duas primeiras os dados são baixos e variam pouco ao longo do tempo):\n",
    "\n",
    "pol_militares_mortos_serv - Policiais Militares mortos em serviço\n",
    "pol_civis_mortos_serv - Policiais Civis mortos em serviço \n",
    "fase - variável desconhecida"
   ]
  },
  {
   "cell_type": "code",
   "execution_count": 3,
   "metadata": {},
   "outputs": [],
   "source": [
    "serie_estadual = serie_estadual.drop(\"prisoes\", axis=1)\n",
    "serie_estadual = serie_estadual.drop(\"apf_cmp\", axis=1)\n",
    "serie_estadual = serie_estadual.drop(\"apreensoes\", axis=1)\n",
    "serie_estadual = serie_estadual.drop(\"aaapai_cmba\", axis=1)\n",
    "serie_estadual = serie_estadual.drop(\"pol_militares_mortos_serv\", axis=1)\n",
    "serie_estadual = serie_estadual.drop(\"pol_civis_mortos_serv\", axis=1)\n",
    "serie_estadual = serie_estadual.drop(\"fase\", axis=1)"
   ]
  },
  {
   "cell_type": "markdown",
   "metadata": {},
   "source": [
    "**Importando séries históricas do estado por mês desde 2003 (taxas):**"
   ]
  },
  {
   "cell_type": "code",
   "execution_count": 4,
   "metadata": {},
   "outputs": [],
   "source": [
    "serie_estadual_taxas = pd.read_excel(\"Dados_taxas.xlsx\")"
   ]
  },
  {
   "cell_type": "markdown",
   "metadata": {},
   "source": [
    "Removeremos da série estadual de taxas as mesmas colunas eliminadas na série estadual em números absolutos:"
   ]
  },
  {
   "cell_type": "code",
   "execution_count": 5,
   "metadata": {},
   "outputs": [],
   "source": [
    "serie_estadual_taxas = serie_estadual_taxas.drop(\"prisoes\", axis=1)\n",
    "serie_estadual_taxas = serie_estadual_taxas.drop(\"apf_cmp\", axis=1)\n",
    "serie_estadual_taxas = serie_estadual_taxas.drop(\"apreensoes\", axis=1)\n",
    "serie_estadual_taxas = serie_estadual_taxas.drop(\"aaapai_cmba\", axis=1)\n",
    "serie_estadual_taxas = serie_estadual_taxas.drop(\"pol_militares_mortos_serv\", axis=1)\n",
    "serie_estadual_taxas = serie_estadual_taxas.drop(\"pol_civis_mortos_serv\", axis=1)\n",
    "serie_estadual_taxas = serie_estadual_taxas.drop(\"fase\", axis=1)"
   ]
  },
  {
   "cell_type": "markdown",
   "metadata": {},
   "source": [
    "**Importando séries históricas por município desde janeiro 2014 (números absolutos):**"
   ]
  },
  {
   "cell_type": "code",
   "execution_count": 6,
   "metadata": {},
   "outputs": [],
   "source": [
    "serie_municipal = pd.read_excel(\"Dados_Municipio.xlsx\")"
   ]
  },
  {
   "cell_type": "markdown",
   "metadata": {},
   "source": [
    "Removeremos da série municipal as colunas existentes já eliminadas na série estadual em números absolutos e na série estadual de taxas. Além disso, removeremos, também, as seguintes colunas:\n",
    "\n",
    "fmun_cod - Código IBGE de 7 dígitos do município (Irrelevante para nossa exploração)\n",
    "mes_ano - Mês e ano da comunicação da ocorrência (dado repetido, pois existem, anteriormente, duas colunas com mês e ano)"
   ]
  },
  {
   "cell_type": "code",
   "execution_count": 7,
   "metadata": {},
   "outputs": [],
   "source": [
    "serie_municipal = serie_municipal.drop(\"fmun_cod\", axis=1)\n",
    "serie_municipal = serie_municipal.drop(\"mes_ano\", axis=1)\n",
    "serie_municipal = serie_municipal.drop(\"apf_cmp\", axis=1)\n",
    "serie_municipal = serie_municipal.drop(\"aaapai_cmba\", axis=1)\n",
    "serie_municipal = serie_municipal.drop(\"pol_militares_mortos_serv\", axis=1)\n",
    "serie_municipal = serie_municipal.drop(\"pol_civis_mortos_serv\", axis=1)\n",
    "serie_municipal = serie_municipal.drop(\"fase\", axis=1)"
   ]
  },
  {
   "cell_type": "markdown",
   "metadata": {},
   "source": [
    "**Importando série anual de população por municípios desde 2000 (números absolutos):**"
   ]
  },
  {
   "cell_type": "code",
   "execution_count": 8,
   "metadata": {},
   "outputs": [],
   "source": [
    "populacao_municipal = pd.read_excel(\"PopulaçãoMunicipal.xlsm\")"
   ]
  },
  {
   "cell_type": "code",
   "execution_count": 9,
   "metadata": {},
   "outputs": [],
   "source": [
    "#Eliminando as colunas e linhas desnecessárias para nossa análise\n",
    "populacao_municipal = populacao_municipal.drop(\"cod_munic\", axis = 1)\n",
    "populacao_municipal = populacao_municipal[2013 < populacao_municipal.vano]\n",
    "populacao_municipal = populacao_municipal[2019 > populacao_municipal.vano]"
   ]
  },
  {
   "cell_type": "markdown",
   "metadata": {},
   "source": [
    "**Renomeando os indexs e os títulos das colunas**"
   ]
  },
  {
   "cell_type": "code",
   "execution_count": 10,
   "metadata": {},
   "outputs": [],
   "source": [
    "serie_estadual.columns = ['Ano', 'Mês', 'Homicídio Doloso', 'Lesão Corporal seguida de Morte', 'Latrocínio', 'Homicídio por Intervenção Policial', 'Tentativa de Homicídio', 'Lesão Corporal Dolosa', 'Estrupo', 'Homicídio Culposo', 'Lesão Corporal Culposa', 'Roubo a Comércio', 'Roubo a Residência', 'Roubo de Veículo', 'Roubo de Carga', 'Roubo a Transeunte', 'Roubo em Coletivo', 'Roubo a Banco', 'Roubo a Caixa Eletrônico', 'Roubo de Celular', 'Roubo com Condução para Saque', 'Roubo a Bicicleta', 'Outros Roubos', 'Total de Roubos', 'Furto de Veículos', 'Furto de Bicicleta', 'Outros Furtos', 'Total de Furtos', 'Sequestro', 'Extorsão', 'Sequestro Relâmpago', 'Estelionato', 'Apreensão de Drogas', 'Recuperação de Veículos', 'Cumprimento de Mandado de Prisão', 'Ameaças', 'Pessoas Desaparecidas', 'Encontro de Cadáver', 'Encontro de Ossada', 'Indicador de Letalidade', 'Indicador de Roubo na Rua', 'Indicador de Roubo de Veículos', 'Registro de Ocorrências']\n",
    "serie_estadual_taxas.columns = ['Ano', 'Mês', 'Homicídio Doloso', 'Lesão Corporal seguida de Morte', 'Latrocínio', 'Homicídio por Intervenção Policial', 'Tentativa de Homicídio', 'Lesão Corporal Dolosa', 'Estrupo', 'Homicídio Culposo', 'Lesão Corporal Culposa', 'Roubo a Comércio', 'Roubo a Residência', 'Roubo de Veículo', 'Roubo de Carga', 'Roubo a Transeunte', 'Roubo em Coletivo', 'Roubo a Banco', 'Roubo a Caixa Eletrônico', 'Roubo de Celular', 'Roubo com Condução para Saque', 'Roubo a Bicicleta', 'Outros Roubos', 'Total de Roubos', 'Furto de Veículos', 'Furto de Bicicleta', 'Outros Furtos', 'Total de Furtos', 'Sequestro', 'Extorsão', 'Sequestro Relâmpago', 'Estelionato', 'Apreensão de Drogas', 'Recuperação de Veículos', 'Cumprimento de Mandado de Prisão', 'Ameaças', 'Pessoas Desaparecidas', 'Encontro de Cadáver', 'Encontro de Ossada', 'Indicador de Letalidade', 'Indicador de Roubo na Rua', 'Indicador de Roubo de Veículos', 'Registro de Ocorrências']\n",
    "serie_municipal.columns = ['Município', 'Ano', 'Mês', 'Região', 'Homicídio Doloso', 'Lesão Corporal seguida de Morte', 'Latrocínio', 'Homicídio por Intervenção Policial', 'Tentativa de Homicídio', 'Lesão Corporal Dolosa', 'Estrupo', 'Homicídio Culposo', 'Lesão Corporal Culposa', 'Roubo a Comércio', 'Roubo a Residência', 'Roubo de Veículo', 'Roubo de Carga', 'Roubo a Transeunte', 'Roubo em Coletivo', 'Roubo a Banco', 'Roubo a Caixa Eletrônico', 'Roubo de Celular', 'Roubo com Condução para Saque', 'Roubo a Bicicleta', 'Outros Roubos', 'Total de Roubos', 'Furto de Veículos', 'Furto de Bicicleta', 'Outros Furtos', 'Total de Furtos', 'Sequestro', 'Extorsão', 'Sequestro Relâmpago', 'Estelionato', 'Apreensão de Drogas', 'Recuperação de Veículos', 'Cumprimento de Mandado de Prisão', 'Ameaças', 'Pessoas Desaparecidas', 'Encontro de Cadáver', 'Encontro de Ossada', 'Indicador de Letalidade', 'Indicador de Roubo na Rua', 'Indicador de Roubo de Veículos', 'Registro de Ocorrências']\n",
    "populacao_municipal.index = range(populacao_municipal.shape[0])\n",
    "populacao_municipal.columns = ['Município', 'População do Município', 'Ano']"
   ]
  }
 ],
 "metadata": {
  "kernelspec": {
   "display_name": "Python 3",
   "language": "python",
   "name": "python3"
  },
  "language_info": {
   "codemirror_mode": {
    "name": "ipython",
    "version": 3
   },
   "file_extension": ".py",
   "mimetype": "text/x-python",
   "name": "python",
   "nbconvert_exporter": "python",
   "pygments_lexer": "ipython3",
   "version": "3.6.5"
  }
 },
 "nbformat": 4,
 "nbformat_minor": 2
}
