{
 "cells": [
  {
   "cell_type": "markdown",
   "metadata": {},
   "source": [
    "# Comparação com a capital - Rio de Janeiro\n",
    "\n",
    "Como dito anteriormente, desejamos analisar o fluxo da criminalidade entre os municípios do estado do Rio de Janeiro. A capital do estado, Rio de Janeiro, não é conhecida somente por sua beleza, mas também por ser uma cidade bastante perigosa. Dado isso, vamos analisar como as outras três regiões (Interior, Baixada Fluminense, Grande Niterói) se relacionam com o município do Rio de Janeiro utilizando os índices criados no notebook 3 (Índices de criminalidade): o índice de criminalidade, roubos, furtos, lesões e letalidades, e outros.\n",
    "\n",
    "Antes de continuar, observe a distribuição geográfica das quatro regiões. A seguinte função se encontra no módulo [Sazonalidades](Sazonalidades.py)."
   ]
  },
  {
   "cell_type": "code",
   "execution_count": null,
   "metadata": {},
   "outputs": [],
   "source": [
    "import Sazonalidades as s\n",
    "s.plot_regioes()"
   ]
  },
  {
   "cell_type": "markdown",
   "metadata": {},
   "source": [
    "Criamos um [módulo](Taxas_de_crescimento.py) para organizar os cálculos necessários. Tal módulo possui duas funções:\n",
    "\n",
    "* taxa_de_crescimento(): recebe como parâmetro o tipo de índice e retorna um DataFrame contendo uma coluna especificando a data (ano/mês), uma coluna especificando a região e uma coluna contendo as taxas de crescimento do índice, ordenado de acordo com a data e a região.\n",
    "\n",
    "* taxa_de_crescimento_relativo(): semelhante à função acima, mas retornando a diferença entre a taxa de crescimento de uma determinada região e o município Rio de Janeiro.\n",
    "\n",
    "Veja os seguintes exemplos:"
   ]
  },
  {
   "cell_type": "code",
   "execution_count": null,
   "metadata": {},
   "outputs": [],
   "source": [
    "import Taxas_de_crescimento as tc\n",
    "import altair as alt\n",
    "alt.renderers.enable('notebook')\n",
    "import Correlação as corr\n",
    "import Plots as pl\n",
    "import Índice as ind\n",
    "\n",
    "tc.taxa_de_crescimento('Furtos').head(16)"
   ]
  },
  {
   "cell_type": "code",
   "execution_count": null,
   "metadata": {},
   "outputs": [],
   "source": [
    "tc.taxa_de_crescimento_relativo('Índice de criminalidade').head(16)"
   ]
  },
  {
   "cell_type": "markdown",
   "metadata": {},
   "source": [
    "## Análise compartiva entre as regiões\n",
    "\n",
    "Vamos verificar se existe algum período relativamente longo no qual os índices de criminalidade das diferentes regiões crescem (ou decrescem) mais que os índices de criminalidade da capital Rio de Janeiro. Nosso critério é o seguinte: se há algum fluxo de criminalidade da capital em direção a certa região (ou o movimento contrário) em algum período razoável, então haverá um período considerável no qual a taxa de crescimento relativo dessa região permaneceu positiva. Resolvemos então analisar graficamente a situação das taxas de crescimento e das taxas de crescimento relativo de cada índice.\n",
    "\n",
    "Para tal criamos as seguintes funções no módulo [Plots](Plots.py):\n",
    "\n",
    "* plot_taxa_de_crescimento(): recebe como parâmetro o tipo de índice e retorna quatro gráficos de linha, cada um representando a evolução da taxa de crescimento do índice ao longo do tempo. Observe abaixo a aplicação dessa função para os cinco índices.\n",
    "\n",
    "* plot_taxa_de_crescimento_relativo(): semelhante à função acima, mas retornando a evolução das taxas de crescimento relativo. Observe abaixo a aplicação dessa função para os cinco índices. (Obs. a taxa de crescimento relativo do Rio de Janeiro é igual a 0, obviamente)."
   ]
  },
  {
   "cell_type": "code",
   "execution_count": null,
   "metadata": {},
   "outputs": [],
   "source": [
    "pl.plot_taxa_de_crescimento('Índice de criminalidade') & pl.plot_taxa_de_crescimento('Roubos') & pl.plot_taxa_de_crescimento('Furtos') & pl.plot_taxa_de_crescimento('Lesões e Letalidades') & pl.plot_taxa_de_crescimento('Outros')"
   ]
  },
  {
   "cell_type": "code",
   "execution_count": null,
   "metadata": {
    "scrolled": false
   },
   "outputs": [],
   "source": [
    "pl.plot_taxa_de_crescimento_relativo('Índice de criminalidade') & pl.plot_taxa_de_crescimento_relativo('Roubos') & pl.plot_taxa_de_crescimento_relativo('Furtos') & pl.plot_taxa_de_crescimento_relativo('Lesões e Letalidades') & pl.plot_taxa_de_crescimento_relativo('Outros')"
   ]
  },
  {
   "cell_type": "markdown",
   "metadata": {},
   "source": [
    "É observado que não há nenhum período razoavelmente longo no qual a taxa de crescimento ou a taxa de crescimento relativo se situa somente acima ou somente abaixo de 0. Isto é, além de permanecerem estáveis, os índices evidenciam (através da segunda plotagem) que não há um fluxo claro de criminalidade entre a capital, Rio de Janeiro, e as outras regiões.\n",
    "\n",
    "Entretanto, existe uma relação interessante entre as regiões: muitas vezes, as curvas seguem a mesma trajetória, podendo indicar que existe homogeneidade (entre as regiões) das taxas de crescimento. Calculamos a correlação entre os dados das séries temporais das taxas de crescimento dos índices das quatro regiões. Criamos o módulo [Correlação](Correlação.py), que contém a funcão correlação(). Para cada índice desejado, ela retorna um DataFrame com a correlação entre as taxas de crescimento das quatro regiões."
   ]
  },
  {
   "cell_type": "code",
   "execution_count": null,
   "metadata": {},
   "outputs": [],
   "source": [
    "corr.correlação('Índice de criminalidade')"
   ]
  },
  {
   "cell_type": "code",
   "execution_count": null,
   "metadata": {},
   "outputs": [],
   "source": [
    "corr.correlação('Roubos')"
   ]
  },
  {
   "cell_type": "code",
   "execution_count": null,
   "metadata": {},
   "outputs": [],
   "source": [
    "corr.correlação('Furtos')"
   ]
  },
  {
   "cell_type": "code",
   "execution_count": null,
   "metadata": {},
   "outputs": [],
   "source": [
    "corr.correlação('Lesões e Letalidades')"
   ]
  },
  {
   "cell_type": "code",
   "execution_count": null,
   "metadata": {},
   "outputs": [],
   "source": [
    "corr.correlação('Outros')"
   ]
  },
  {
   "cell_type": "markdown",
   "metadata": {},
   "source": [
    "Ou seja, além de de estarem estáveis em torno de 0, as taxas de crescimento das quatro regiões possuem alta correlação positiva. Podemos observar maiores correlações para o índice Outros e menores correlações para o índice Roubos (com correlações ainda assim altas). Portanto, embora não foi observado o fluxo da criminalidade entre as regiões, encontramos certa homogeneidade entre o crescimento e decrescimento dos índices das diferentes regiões."
   ]
  }
 ],
 "metadata": {
  "kernelspec": {
   "display_name": "Python 3",
   "language": "python",
   "name": "python3"
  },
  "language_info": {
   "codemirror_mode": {
    "name": "ipython",
    "version": 3
   },
   "file_extension": ".py",
   "mimetype": "text/x-python",
   "name": "python",
   "nbconvert_exporter": "python",
   "pygments_lexer": "ipython3",
   "version": "3.7.1"
  }
 },
 "nbformat": 4,
 "nbformat_minor": 2
}
