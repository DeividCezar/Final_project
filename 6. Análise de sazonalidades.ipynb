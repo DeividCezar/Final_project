{
 "cells": [
  {
   "cell_type": "markdown",
   "metadata": {},
   "source": [
    "# Análise de sazonalidades\n",
    "\n",
    "Sazonal é um adjetivo que se refere ao que é temporário, ou seja, que é típico de determinada estação ou época. A sazonalidade de um evento representa que este costuma ocorrer sempre num momento temporal específico.\n",
    "\n",
    "Dentro desse contexto, existe a sazonalidade turística ou sazonalidade da demanda turística, que é um fenómeno caracterizado pela instabilidade entre oferta e demanda nos determinados períodos do ano, mais especificamente, no caso do turismo, conhecidos como épocas de alta estação e baixa estação. Estações do ano, férias escolares e de trabalho e poder aquisitivo são factores que podem influenciar a sazonalidade da demanda turística. \n",
    "\n",
    "A sazonalidade é indesejável, pois, nas épocas de baixa estação, pode causar falências de empresas e, consequentemente, desempregos. Durante a alta estação, ela pode gerar inflação no núcleo receptor. O ideal é que haja equilíbrio entre oferta e demanda durante todo o ano, evitando assim a sazonalidade e os fatores prejudiciais à atividade turística que são por ela causados. Além disso, ela pode influenciar também as nossas váriaveis criminais, pois, em períodos de alta estação, existe uma tendência de aumento dos números, principalmente, em furtos e roubos. Neste notebook, buscaremos e analisaremos essas variações."
   ]
  },
  {
   "cell_type": "code",
   "execution_count": 1,
   "metadata": {},
   "outputs": [
    {
     "data": {
      "text/plain": [
       "RendererRegistry.enable('notebook')"
      ]
     },
     "execution_count": 1,
     "metadata": {},
     "output_type": "execute_result"
    }
   ],
   "source": [
    "# Importando bibliotecas necessárias \n",
    "\n",
    "import altair as alt\n",
    "import Índice as i\n",
    "alt.renderers.enable('notebook')"
   ]
  },
  {
   "cell_type": "markdown",
   "metadata": {},
   "source": [
    "## 6.1 - Microrregião dos Lagos\n",
    "\n",
    "A Microrregião dos Lagos, usualmente conhecida como Região dos Lagos classificada como Região da Costa do Sol é uma região do estado do Rio de Janeiro pertencente à mesorregião das Baixadas Litorâneas. Possui uma área de 2.004,003 km², sua população atual é de 538.650 habitantes e está dividida em sete municípios em torno das lagoas de Araruama e Saquarema, a leste da capital do Rio de Janeiro. É considerada uma das mais belas regiões do litoral fluminense, marcada pelo turismo. Tem importância para a cidade do Rio de Janeiro comparável a Baixada Santista para a cidade de São Paulo. Nos períodos de férias (dezembro, janeiro e julho) a região recebe inúmeros turistas das demais localidades do estado, como também, de fora do Rio de Janeiro. Será que esse fluxo de pessoas impacta as variáveis criminais? Veremos a seguir.\n",
    "\n",
    "Calculamos a média das séries crimais em todos os municípios da Região dos Lagos no módulo \"Índice\". Como resultado obtivemos o seguinte Data Frame:"
   ]
  },
  {
   "cell_type": "code",
   "execution_count": 2,
   "metadata": {},
   "outputs": [
    {
     "data": {
      "text/html": [
       "<div>\n",
       "<style scoped>\n",
       "    .dataframe tbody tr th:only-of-type {\n",
       "        vertical-align: middle;\n",
       "    }\n",
       "\n",
       "    .dataframe tbody tr th {\n",
       "        vertical-align: top;\n",
       "    }\n",
       "\n",
       "    .dataframe thead th {\n",
       "        text-align: right;\n",
       "    }\n",
       "</style>\n",
       "<table border=\"1\" class=\"dataframe\">\n",
       "  <thead>\n",
       "    <tr style=\"text-align: right;\">\n",
       "      <th></th>\n",
       "      <th>Data</th>\n",
       "      <th>Lesões e Letalidades</th>\n",
       "      <th>Roubos</th>\n",
       "      <th>Furtos</th>\n",
       "      <th>Outros</th>\n",
       "      <th>Ano</th>\n",
       "      <th>Mês</th>\n",
       "    </tr>\n",
       "  </thead>\n",
       "  <tbody>\n",
       "    <tr>\n",
       "      <th>0</th>\n",
       "      <td>2014/01</td>\n",
       "      <td>147.543383</td>\n",
       "      <td>30.853215</td>\n",
       "      <td>165.386459</td>\n",
       "      <td>91.253208</td>\n",
       "      <td>2014</td>\n",
       "      <td>01</td>\n",
       "    </tr>\n",
       "    <tr>\n",
       "      <th>1</th>\n",
       "      <td>2014/02</td>\n",
       "      <td>98.555547</td>\n",
       "      <td>22.152139</td>\n",
       "      <td>103.970604</td>\n",
       "      <td>78.321114</td>\n",
       "      <td>2014</td>\n",
       "      <td>02</td>\n",
       "    </tr>\n",
       "    <tr>\n",
       "      <th>2</th>\n",
       "      <td>2014/03</td>\n",
       "      <td>113.585340</td>\n",
       "      <td>26.166025</td>\n",
       "      <td>130.249098</td>\n",
       "      <td>75.121158</td>\n",
       "      <td>2014</td>\n",
       "      <td>03</td>\n",
       "    </tr>\n",
       "    <tr>\n",
       "      <th>3</th>\n",
       "      <td>2014/04</td>\n",
       "      <td>112.635119</td>\n",
       "      <td>27.483114</td>\n",
       "      <td>106.594779</td>\n",
       "      <td>68.823178</td>\n",
       "      <td>2014</td>\n",
       "      <td>04</td>\n",
       "    </tr>\n",
       "    <tr>\n",
       "      <th>4</th>\n",
       "      <td>2014/05</td>\n",
       "      <td>89.808768</td>\n",
       "      <td>35.856767</td>\n",
       "      <td>95.992843</td>\n",
       "      <td>67.102783</td>\n",
       "      <td>2014</td>\n",
       "      <td>05</td>\n",
       "    </tr>\n",
       "  </tbody>\n",
       "</table>\n",
       "</div>"
      ],
      "text/plain": [
       "      Data  Lesões e Letalidades     Roubos      Furtos     Outros   Ano Mês\n",
       "0  2014/01            147.543383  30.853215  165.386459  91.253208  2014  01\n",
       "1  2014/02             98.555547  22.152139  103.970604  78.321114  2014  02\n",
       "2  2014/03            113.585340  26.166025  130.249098  75.121158  2014  03\n",
       "3  2014/04            112.635119  27.483114  106.594779  68.823178  2014  04\n",
       "4  2014/05             89.808768  35.856767   95.992843  67.102783  2014  05"
      ]
     },
     "execution_count": 2,
     "metadata": {},
     "output_type": "execute_result"
    }
   ],
   "source": [
    "i.indices_agregados_rl.head()"
   ]
  },
  {
   "cell_type": "markdown",
   "metadata": {},
   "source": [
    "#### Plotagem das séries:\n",
    "\n",
    "Vamos plotar as médias das taxas agregadas apresentadas anteriormente - em relação a Região dos Lagos (i.indices_agregados_rl) - nos doze meses de um ano durante os cinco anos e, então, buscar possíveis eventos de sazonalidade durante os meses do ano. Para isso usaremos uma função, também declarada no módulo, a qual possui como entradas o data frame e a taxa a ser analisada."
   ]
  },
  {
   "cell_type": "code",
   "execution_count": 21,
   "metadata": {
    "scrolled": true
   },
   "outputs": [],
   "source": [
    "# Plotagem das médias das taxas de Lesões e Letalidades:\n",
    "\n",
    "#i. plot_chart(i.indices_agregados_rl, 'Lesões e Letalidades')"
   ]
  },
  {
   "cell_type": "code",
   "execution_count": 22,
   "metadata": {},
   "outputs": [],
   "source": [
    "# Plotagem das médias das taxas de Roubos:\n",
    "\n",
    "#i. plot_chart(i.indices_agregados_rl, 'Roubos')"
   ]
  },
  {
   "cell_type": "code",
   "execution_count": 23,
   "metadata": {},
   "outputs": [],
   "source": [
    "# Plotagem das médias das taxas de Furtos:\n",
    "\n",
    "#i. plot_chart(i.indices_agregados_rl, 'Furtos')"
   ]
  },
  {
   "cell_type": "code",
   "execution_count": 24,
   "metadata": {},
   "outputs": [],
   "source": [
    "# Plotagem das médias das taxas das demais variáveis:\n",
    "\n",
    "#i. plot_chart(i.indices_agregados_rl, 'Outros')"
   ]
  },
  {
   "cell_type": "markdown",
   "metadata": {},
   "source": [
    "## 6.2 - Região Metropolitana do Rio de Janeiro\n",
    "\n",
    "A Região Metropolitana do Rio de Janeiro, também conhecida como Grande Rio, une as então regiões metropolitanas do Grande Rio Fluminense e da Grande Niterói. Com 12.330.186 habitantes em 2016, é a segunda maior área metropolitana do Brasil (após a Grande São Paulo), terceira da América do Sul e 20ª maior do mundo (Censo 2010).\n",
    "\n",
    "O termo \"Grande Rio\" refere-se a extensão da capital fluminense em uma intensa conurbação com seus municípios vizinhos, uma mancha urbana contínua. É constituída por vinte e um municípios, mas em nossa análise de sazonalidade, consideraremos apenas as cidades (17) que fazem parte da Baixada Fluminense, Rio de Janeiro e Grande Niterói ( os municípios de Cachoeiras de Macacu, Rio Bonito, Itaboraí e Tanguá são considerados inteiror em nossos dados).\n",
    "\n",
    "Calculamos a média das séries crimais em todos os municípios da Região Metropolitana no módulo \"Índice\". Como resultado obtivemos o seguinte Data Frame:"
   ]
  },
  {
   "cell_type": "code",
   "execution_count": 7,
   "metadata": {},
   "outputs": [
    {
     "data": {
      "text/html": [
       "<div>\n",
       "<style scoped>\n",
       "    .dataframe tbody tr th:only-of-type {\n",
       "        vertical-align: middle;\n",
       "    }\n",
       "\n",
       "    .dataframe tbody tr th {\n",
       "        vertical-align: top;\n",
       "    }\n",
       "\n",
       "    .dataframe thead th {\n",
       "        text-align: right;\n",
       "    }\n",
       "</style>\n",
       "<table border=\"1\" class=\"dataframe\">\n",
       "  <thead>\n",
       "    <tr style=\"text-align: right;\">\n",
       "      <th></th>\n",
       "      <th>Data</th>\n",
       "      <th>Lesões e Letalidades</th>\n",
       "      <th>Roubos</th>\n",
       "      <th>Furtos</th>\n",
       "      <th>Outros</th>\n",
       "      <th>Ano</th>\n",
       "      <th>Mês</th>\n",
       "    </tr>\n",
       "  </thead>\n",
       "  <tbody>\n",
       "    <tr>\n",
       "      <th>0</th>\n",
       "      <td>2014/01</td>\n",
       "      <td>93.082464</td>\n",
       "      <td>78.727506</td>\n",
       "      <td>72.058128</td>\n",
       "      <td>75.852945</td>\n",
       "      <td>2014</td>\n",
       "      <td>01</td>\n",
       "    </tr>\n",
       "    <tr>\n",
       "      <th>1</th>\n",
       "      <td>2014/02</td>\n",
       "      <td>85.699643</td>\n",
       "      <td>79.194851</td>\n",
       "      <td>65.652961</td>\n",
       "      <td>66.645629</td>\n",
       "      <td>2014</td>\n",
       "      <td>02</td>\n",
       "    </tr>\n",
       "    <tr>\n",
       "      <th>2</th>\n",
       "      <td>2014/03</td>\n",
       "      <td>91.066573</td>\n",
       "      <td>80.124937</td>\n",
       "      <td>71.172705</td>\n",
       "      <td>66.659675</td>\n",
       "      <td>2014</td>\n",
       "      <td>03</td>\n",
       "    </tr>\n",
       "    <tr>\n",
       "      <th>3</th>\n",
       "      <td>2014/04</td>\n",
       "      <td>83.999505</td>\n",
       "      <td>80.498680</td>\n",
       "      <td>61.602224</td>\n",
       "      <td>62.711909</td>\n",
       "      <td>2014</td>\n",
       "      <td>04</td>\n",
       "    </tr>\n",
       "    <tr>\n",
       "      <th>4</th>\n",
       "      <td>2014/05</td>\n",
       "      <td>72.852821</td>\n",
       "      <td>88.565765</td>\n",
       "      <td>67.671449</td>\n",
       "      <td>57.887570</td>\n",
       "      <td>2014</td>\n",
       "      <td>05</td>\n",
       "    </tr>\n",
       "  </tbody>\n",
       "</table>\n",
       "</div>"
      ],
      "text/plain": [
       "      Data  Lesões e Letalidades     Roubos     Furtos     Outros   Ano Mês\n",
       "0  2014/01             93.082464  78.727506  72.058128  75.852945  2014  01\n",
       "1  2014/02             85.699643  79.194851  65.652961  66.645629  2014  02\n",
       "2  2014/03             91.066573  80.124937  71.172705  66.659675  2014  03\n",
       "3  2014/04             83.999505  80.498680  61.602224  62.711909  2014  04\n",
       "4  2014/05             72.852821  88.565765  67.671449  57.887570  2014  05"
      ]
     },
     "execution_count": 7,
     "metadata": {},
     "output_type": "execute_result"
    }
   ],
   "source": [
    "i.indices_agregados_rm.head()"
   ]
  },
  {
   "cell_type": "markdown",
   "metadata": {},
   "source": [
    "#### Plotagem das séries:\n",
    "\n",
    "Plotaremos, novamente, as médias das taxas agregadas apresentadas anteriormente - em relação à Região Metropolitana (i.indices_agregados_rm) - para buscar os possíveis eventos de sazonalidade."
   ]
  },
  {
   "cell_type": "code",
   "execution_count": 26,
   "metadata": {},
   "outputs": [],
   "source": [
    "# Plotagem das médias das taxas de Lesões e Letalidades:\n",
    "\n",
    "#i. plot_chart(i.indices_agregados_rm, 'Lesões e Letalidades')"
   ]
  },
  {
   "cell_type": "code",
   "execution_count": 28,
   "metadata": {},
   "outputs": [],
   "source": [
    "# Plotagem das médias das taxas de Roubos:\n",
    "\n",
    "#i. plot_chart(i.indices_agregados_rm, 'Roubos')"
   ]
  },
  {
   "cell_type": "code",
   "execution_count": 32,
   "metadata": {},
   "outputs": [],
   "source": [
    "# Plotagem das médias das taxas de Furtos:\n",
    "\n",
    "#i. plot_chart(i.indices_agregados_rm, 'Furtos')"
   ]
  },
  {
   "cell_type": "code",
   "execution_count": 34,
   "metadata": {},
   "outputs": [],
   "source": [
    "# Plotagem das médias das taxas das demais variáveis:\n",
    "\n",
    "#i. plot_chart(i.indices_agregados_rm, 'Outros')"
   ]
  },
  {
   "cell_type": "markdown",
   "metadata": {},
   "source": [
    "## 6.3 - Rio de Janeiro\n",
    "\n",
    "Rio de Janeiro (frequentemente referida simplesmente como Rio) é um município brasileiro, capital do estado homônimo, situado no Sudeste do país. Maior destino turístico internacional no Brasil, da América Latina e de todo o Hemisfério Sul, a capital fluminense é a cidade brasileira mais conhecida no exterior, funcionando como um \"espelho\", ou \"retrato\" nacional, seja positiva ou negativamente. É a segunda maior metrópole do Brasil (depois de São Paulo), a sexta maior da América e a trigésima quinta do mundo. Dada sua importância e a relevância que tem em relação aos nossos números criminais, será que ela também possui sazonalidade ao longo do ano? A alta estação nas épocas de férias influencia os dados? Buscaremos responder adiante.\n",
    "\n",
    "Séries crimais do município - filtrada no módulo \"Índice\":"
   ]
  },
  {
   "cell_type": "code",
   "execution_count": 12,
   "metadata": {},
   "outputs": [
    {
     "data": {
      "text/html": [
       "<div>\n",
       "<style scoped>\n",
       "    .dataframe tbody tr th:only-of-type {\n",
       "        vertical-align: middle;\n",
       "    }\n",
       "\n",
       "    .dataframe tbody tr th {\n",
       "        vertical-align: top;\n",
       "    }\n",
       "\n",
       "    .dataframe thead th {\n",
       "        text-align: right;\n",
       "    }\n",
       "</style>\n",
       "<table border=\"1\" class=\"dataframe\">\n",
       "  <thead>\n",
       "    <tr style=\"text-align: right;\">\n",
       "      <th></th>\n",
       "      <th>index</th>\n",
       "      <th>Município</th>\n",
       "      <th>Região</th>\n",
       "      <th>Data</th>\n",
       "      <th>Lesões e Letalidades</th>\n",
       "      <th>Roubos</th>\n",
       "      <th>Furtos</th>\n",
       "      <th>Outros</th>\n",
       "      <th>Ano</th>\n",
       "      <th>Mês</th>\n",
       "    </tr>\n",
       "  </thead>\n",
       "  <tbody>\n",
       "    <tr>\n",
       "      <th>0</th>\n",
       "      <td>67</td>\n",
       "      <td>Rio de Janeiro</td>\n",
       "      <td>Rio de Janeiro</td>\n",
       "      <td>2014/01</td>\n",
       "      <td>93.589985</td>\n",
       "      <td>106.280415</td>\n",
       "      <td>151.123033</td>\n",
       "      <td>81.441881</td>\n",
       "      <td>2014</td>\n",
       "      <td>01</td>\n",
       "    </tr>\n",
       "    <tr>\n",
       "      <th>1</th>\n",
       "      <td>159</td>\n",
       "      <td>Rio de Janeiro</td>\n",
       "      <td>Rio de Janeiro</td>\n",
       "      <td>2014/02</td>\n",
       "      <td>86.307320</td>\n",
       "      <td>101.322005</td>\n",
       "      <td>144.320715</td>\n",
       "      <td>73.167534</td>\n",
       "      <td>2014</td>\n",
       "      <td>02</td>\n",
       "    </tr>\n",
       "    <tr>\n",
       "      <th>2</th>\n",
       "      <td>251</td>\n",
       "      <td>Rio de Janeiro</td>\n",
       "      <td>Rio de Janeiro</td>\n",
       "      <td>2014/03</td>\n",
       "      <td>86.167865</td>\n",
       "      <td>108.728630</td>\n",
       "      <td>171.142613</td>\n",
       "      <td>74.112731</td>\n",
       "      <td>2014</td>\n",
       "      <td>03</td>\n",
       "    </tr>\n",
       "    <tr>\n",
       "      <th>3</th>\n",
       "      <td>343</td>\n",
       "      <td>Rio de Janeiro</td>\n",
       "      <td>Rio de Janeiro</td>\n",
       "      <td>2014/04</td>\n",
       "      <td>80.124803</td>\n",
       "      <td>105.304228</td>\n",
       "      <td>125.602718</td>\n",
       "      <td>68.611995</td>\n",
       "      <td>2014</td>\n",
       "      <td>04</td>\n",
       "    </tr>\n",
       "    <tr>\n",
       "      <th>4</th>\n",
       "      <td>435</td>\n",
       "      <td>Rio de Janeiro</td>\n",
       "      <td>Rio de Janeiro</td>\n",
       "      <td>2014/05</td>\n",
       "      <td>76.080600</td>\n",
       "      <td>103.460319</td>\n",
       "      <td>120.923219</td>\n",
       "      <td>66.752592</td>\n",
       "      <td>2014</td>\n",
       "      <td>05</td>\n",
       "    </tr>\n",
       "  </tbody>\n",
       "</table>\n",
       "</div>"
      ],
      "text/plain": [
       "   index       Município          Região     Data  Lesões e Letalidades  \\\n",
       "0     67  Rio de Janeiro  Rio de Janeiro  2014/01             93.589985   \n",
       "1    159  Rio de Janeiro  Rio de Janeiro  2014/02             86.307320   \n",
       "2    251  Rio de Janeiro  Rio de Janeiro  2014/03             86.167865   \n",
       "3    343  Rio de Janeiro  Rio de Janeiro  2014/04             80.124803   \n",
       "4    435  Rio de Janeiro  Rio de Janeiro  2014/05             76.080600   \n",
       "\n",
       "       Roubos      Furtos     Outros   Ano Mês  \n",
       "0  106.280415  151.123033  81.441881  2014  01  \n",
       "1  101.322005  144.320715  73.167534  2014  02  \n",
       "2  108.728630  171.142613  74.112731  2014  03  \n",
       "3  105.304228  125.602718  68.611995  2014  04  \n",
       "4  103.460319  120.923219  66.752592  2014  05  "
      ]
     },
     "execution_count": 12,
     "metadata": {},
     "output_type": "execute_result"
    }
   ],
   "source": [
    "i.indice_rj.head()"
   ]
  },
  {
   "cell_type": "markdown",
   "metadata": {},
   "source": [
    "#### Plotagem das séries\n",
    "\n",
    "Plotaremos os dados conforme fizemos anteriormente com as regiões."
   ]
  },
  {
   "cell_type": "code",
   "execution_count": 36,
   "metadata": {},
   "outputs": [],
   "source": [
    "# Plotagem das taxas de Lesões e Letalidades:\n",
    "\n",
    "#i. plot_chart(i.indice_rj, 'Lesões e Letalidades')"
   ]
  },
  {
   "cell_type": "code",
   "execution_count": 38,
   "metadata": {},
   "outputs": [],
   "source": [
    "# Plotagem das médias das taxas de Roubos:\n",
    "\n",
    "#i. plot_chart(i.indice_rj, 'Roubos')"
   ]
  },
  {
   "cell_type": "code",
   "execution_count": 42,
   "metadata": {},
   "outputs": [],
   "source": [
    "# Plotagem das médias das taxas de Furtos:\n",
    "\n",
    "#i. plot_chart(i.indice_rj, 'Furtos')"
   ]
  },
  {
   "cell_type": "code",
   "execution_count": 44,
   "metadata": {},
   "outputs": [],
   "source": [
    "# Plotagem das médias das taxas das demais variáveis:\n",
    "\n",
    "#i. plot_chart(i.indice_rj, 'Outros')"
   ]
  }
 ],
 "metadata": {
  "kernelspec": {
   "display_name": "Python 3",
   "language": "python",
   "name": "python3"
  },
  "language_info": {
   "codemirror_mode": {
    "name": "ipython",
    "version": 3
   },
   "file_extension": ".py",
   "mimetype": "text/x-python",
   "name": "python",
   "nbconvert_exporter": "python",
   "pygments_lexer": "ipython3",
   "version": "3.6.5"
  }
 },
 "nbformat": 4,
 "nbformat_minor": 2
}
