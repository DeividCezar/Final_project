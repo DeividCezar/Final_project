{
 "cells": [
  {
   "cell_type": "markdown",
   "metadata": {
    "colab_type": "text",
    "id": "R6hMc2Qe3xP3"
   },
   "source": [
    "# Análise dos dados criminais do estado do Rio de Janeiro\n",
    "\n",
    "Este projeto visa uma análise variada das ocorrências criminais ocorridas no estado do Rio de Janeiro como um todo e em seus municípios. Entre seus objetivos estão:\n",
    "\n",
    "1.   Buscar indícios de *relacões* entre eventos importantes ocorridos no estado; \n",
    "2.   Criar um índice de criminalidade baseado nas penalidades prescritas em lei e utilizá-lo para realizar uma análise comparativa da criminalidade entre os municípios;\n",
    "3.   Fazer uma análise mais cuidadosa das variáveis criminais do estado como um todo;\n",
    "4.   Gerar dispositivos de interatividade para cada análise feita\n",
    "\n",
    "## Limpeza dos dados\n",
    "\n",
    "A *importacão*, a limpeza dos dados e seus critérios foram especificados no seguinte notebook: https://github.com/DeividCezar/Final_project/blob/master/Importa%C3%A7%C3%A3o%20e%20organiza%C3%A7%C3%A3o%20dos%20dados%20.ipynb\n",
    "\n",
    "Os dados foram obtidos através do Instituto de *Seguranca* Pública do Rio de Janeiro (http://www.ispdados.rj.gov.br/). Utilizaremos as séries temporais criminais do estado (desde 1991), as mesmas séries também em taxas por 100 mil habitantes (desde 2003), as séries temporais criminais dos municípios do estado do Rio de Janeiro (desde 2014) e os dados populacionais de cada munucípio. Os dois últimos foram utilizados para gerar as séries municipais também em taxas por 100 mil habitantes."
   ]
  },
  {
   "cell_type": "code",
   "execution_count": null,
   "metadata": {
    "collapsed": true
   },
   "outputs": [],
   "source": []
  }
 ],
 "metadata": {
  "colab": {
   "collapsed_sections": [],
   "name": "Análise dos dados criminais do estado do Rio de Janeiro",
   "provenance": [],
   "version": "0.3.2"
  },
  "kernelspec": {
   "display_name": "Python 3",
   "language": "python",
   "name": "python3"
  },
  "language_info": {
   "codemirror_mode": {
    "name": "ipython",
    "version": 3
   },
   "file_extension": ".py",
   "mimetype": "text/x-python",
   "name": "python",
   "nbconvert_exporter": "python",
   "pygments_lexer": "ipython3",
   "version": "3.6.5"
  }
 },
 "nbformat": 4,
 "nbformat_minor": 1
}
